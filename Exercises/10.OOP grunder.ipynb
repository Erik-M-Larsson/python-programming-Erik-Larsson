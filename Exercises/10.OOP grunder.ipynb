{
 "cells": [
  {
   "cell_type": "markdown",
   "source": [
    "# Obejktsorienterad programmering grunder"
   ],
   "metadata": {}
  },
  {
   "cell_type": "markdown",
   "source": [
    "## 1. Unit conversion"
   ],
   "metadata": {}
  },
  {
   "cell_type": "code",
   "execution_count": 36,
   "source": [
    "\r\n",
    "class Enhetskonvertering:\r\n",
    "     \r\n",
    "    def __init__ (self, value):\r\n",
    "        self.varde = value\r\n",
    "\r\n",
    "    @property \r\n",
    "    def varde(self) -> float:\r\n",
    "        \"\"\"Hämtar värde\"\"\"\r\n",
    "        return self._varde\r\n",
    "\r\n",
    "    @varde.setter\r\n",
    "    def varde(self, val) -> None:\r\n",
    "        \"\"\"Tilldelar värde\"\"\"\r\n",
    "        \r\n",
    "        if not isinstance(val, (int, float)):\r\n",
    "            raise TypeError(\"Måste vara ett tal\")\r\n",
    "    \r\n",
    "        if val < 0:\r\n",
    "            raise ValueError(\"Måste vara ett positivt tal\")\r\n",
    "        \r\n",
    "        self._varde = val\r\n",
    "\r\n",
    "\r\n",
    "\r\n",
    "    def inch_to_cm(self):\r\n",
    "        return self._varde * 2.54\r\n",
    "\r\n",
    "    def foot_to_meters(self):\r\n",
    "        return self._varde * 0.3048\r\n",
    "\r\n",
    "    def pound_to_kg(self):\r\n",
    "        return self._varde * 0.45359237\r\n",
    "        \r\n",
    "\r\n",
    "    def __repr__(self):\r\n",
    "        return f\"Enhetskonvertering(varde = {self._varde})\"\r\n",
    "\r\n",
    "\r\n"
   ],
   "outputs": [],
   "metadata": {}
  },
  {
   "cell_type": "code",
   "execution_count": 47,
   "source": [
    "e = Enhetskonvertering(5)\r\n",
    "print(e._varde, e.varde)\r\n",
    "\r\n",
    "print(e.inch_to_cm(), e.foot_to_meters(), e.pound_to_kg())\r\n",
    "\r\n",
    "\r\n",
    "print(Enhetskonvertering(1))\r\n"
   ],
   "outputs": [
    {
     "output_type": "stream",
     "name": "stdout",
     "text": [
      "5 5\n",
      "12.7 1.524 2.2679618500000003\n",
      "Enhetskonvertering(varde = 1)\n"
     ]
    }
   ],
   "metadata": {}
  },
  {
   "cell_type": "markdown",
   "source": [
    "## 2. Person "
   ],
   "metadata": {}
  },
  {
   "cell_type": "code",
   "execution_count": 70,
   "source": [
    "class Person:\r\n",
    "    \"\"\"Klass för en person\"\"\"\r\n",
    "    def __init__(self, name: str, age: int, email: str) -> None:\r\n",
    "        self.name = name\r\n",
    "        self.age = age\r\n",
    "        self.email = email\r\n",
    "\r\n",
    "    @ property\r\n",
    "    def name(self) -> str:\r\n",
    "        \"\"\"Hämtar personens namn\"\"\"\r\n",
    "        return self._name\r\n",
    "\r\n",
    "    @ name.setter\r\n",
    "    def name(self, name: str) -> None:\r\n",
    "        \"\"\"Tilldelar personen ett namn\"\"\"\r\n",
    "        # name - must be string\r\n",
    "        if not isinstance(name, str):\r\n",
    "            raise TypeError(\"Namnet måse vara av typen teststräng\")\r\n",
    "        self._name = name\r\n",
    "\r\n",
    "    @ property    \r\n",
    "    def age(self) -> int:\r\n",
    "        \"\"\"Hämtar personens ålder\"\"\"\r\n",
    "        return self._age\r\n",
    "\r\n",
    "    @ age.setter\r\n",
    "    def age(self, age: int) -> None:\r\n",
    "        \"\"\"Tilldelar personen en ålder\"\"\"\r\n",
    "\r\n",
    "        if not isinstance(age, int ):\r\n",
    "            raise TypeError(\"Ålder måste vara ett heltal\")\r\n",
    "        elif age < 0 < 125:                                         # age - must be number between 0 and 125\r\n",
    "            raise ValueError(\"Ålder måste vara mellan 0 och 125 år\")\r\n",
    "        \r\n",
    "        self._age = age\r\n",
    "\r\n",
    "    @ property\r\n",
    "    def email(self) -> str:\r\n",
    "        \"\"\"Hämtar personens e-post\"\"\"\r\n",
    "        return self._email\r\n",
    "\r\n",
    "    @ email.setter\r\n",
    "    def email(self, email: str) -> None:\r\n",
    "        \"\"\"Tilldelar personen en e-post\"\"\"    \r\n",
    "\r\n",
    "        if not isinstance(email, str):\r\n",
    "            raise TypeError(\"E-post måste vara en textsträng\")\r\n",
    "        elif email.find(\"@\") == -1:                             # email - must include an @ sign \r\n",
    "            raise ValueError(\"En e-post ska inehålla ett @\")\r\n",
    "        \r\n",
    "        self._email = email\r\n",
    "    \r\n",
    "    def say_hello(self) -> str:\r\n",
    "        \"Returnerar en hälsningsfras\"\r\n",
    "        return f\"Hej! Mitt namn är {self.name}. Jag är {self.age} år gammal. Min e-post är {self.email}.\"\r\n",
    "\r\n",
    "    def __repr__(self) -> str:\r\n",
    "        return f\"Person( name = {self.name}, age = {self.age}, email = {self.email} )\"\r\n",
    "    \r\n",
    "\r\n",
    "    "
   ],
   "outputs": [],
   "metadata": {}
  },
  {
   "cell_type": "code",
   "execution_count": 71,
   "source": [
    "p1 = Person(\"Erik\", 25, \"erik.larsson@iths.se\")\r\n",
    "\r\n",
    "print(p1.name, p1.age, p1.email )\r\n",
    "print(p1.say_hello())\r\n",
    "print(p1)\r\n"
   ],
   "outputs": [
    {
     "output_type": "stream",
     "name": "stdout",
     "text": [
      "Erik 25 erik.larsson@iths.se\n",
      "Hej! Mitt namn är Erik. Jag är 25 år gammal. Min e-post är erik.larsson@iths.se.\n",
      "Person( name = Erik, age = 25, email = erik.larsson@iths.se )\n"
     ]
    }
   ],
   "metadata": {}
  },
  {
   "cell_type": "markdown",
   "source": [
    "## 3."
   ],
   "metadata": {}
  },
  {
   "cell_type": "code",
   "execution_count": null,
   "source": [],
   "outputs": [],
   "metadata": {}
  },
  {
   "cell_type": "markdown",
   "source": [],
   "metadata": {}
  }
 ],
 "metadata": {
  "orig_nbformat": 4,
  "language_info": {
   "name": "python",
   "version": "3.9.7",
   "mimetype": "text/x-python",
   "codemirror_mode": {
    "name": "ipython",
    "version": 3
   },
   "pygments_lexer": "ipython3",
   "nbconvert_exporter": "python",
   "file_extension": ".py"
  },
  "kernelspec": {
   "name": "python3",
   "display_name": "Python 3.9.7 64-bit ('python-programming-Erik-Larsson-ctfcgb4Z': pipenv)"
  },
  "interpreter": {
   "hash": "f478fc9176ae27b1fcbca8069f8c2be4be0c1bc7299e1ed03f2b6fc59f3faf8f"
  }
 },
 "nbformat": 4,
 "nbformat_minor": 2
}