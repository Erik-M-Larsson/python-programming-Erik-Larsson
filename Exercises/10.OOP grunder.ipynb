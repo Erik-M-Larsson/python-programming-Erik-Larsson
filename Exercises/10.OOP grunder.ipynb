{
 "cells": [
  {
   "cell_type": "markdown",
   "source": [
    "# Obejktsorienterad programmering grunder"
   ],
   "metadata": {}
  },
  {
   "cell_type": "markdown",
   "source": [
    "## 1. Unit conversion"
   ],
   "metadata": {}
  },
  {
   "cell_type": "code",
   "execution_count": 36,
   "source": [
    "\r\n",
    "class Enhetskonvertering:\r\n",
    "     \r\n",
    "    def __init__ (self, value):\r\n",
    "        self.varde = value\r\n",
    "\r\n",
    "    @property \r\n",
    "    def varde(self) -> float:\r\n",
    "        \"\"\"Hämtar värde\"\"\"\r\n",
    "        return self._varde\r\n",
    "\r\n",
    "    @varde.setter\r\n",
    "    def varde(self, val) -> None:\r\n",
    "        \"\"\"Tilldelar värde\"\"\"\r\n",
    "        \r\n",
    "        if not isinstance(val, (int, float)):\r\n",
    "            raise TypeError(\"Måste vara ett tal\")\r\n",
    "    \r\n",
    "        if val < 0:\r\n",
    "            raise ValueError(\"Måste vara ett positivt tal\")\r\n",
    "        \r\n",
    "        self._varde = val\r\n",
    "\r\n",
    "\r\n",
    "\r\n",
    "    def inch_to_cm(self):\r\n",
    "        return self._varde * 2.54\r\n",
    "\r\n",
    "    def foot_to_meters(self):\r\n",
    "        return self._varde * 0.3048\r\n",
    "\r\n",
    "    def pound_to_kg(self):\r\n",
    "        return self._varde * 0.45359237\r\n",
    "        \r\n",
    "\r\n",
    "    def __repr__(self):\r\n",
    "        return f\"Enhetskonvertering(varde = {self._varde})\"\r\n",
    "\r\n",
    "\r\n"
   ],
   "outputs": [],
   "metadata": {}
  },
  {
   "cell_type": "code",
   "execution_count": 47,
   "source": [
    "e = Enhetskonvertering(5)\r\n",
    "print(e._varde, e.varde)\r\n",
    "\r\n",
    "print(e.inch_to_cm(), e.foot_to_meters(), e.pound_to_kg())\r\n",
    "\r\n",
    "\r\n",
    "print(Enhetskonvertering(1))\r\n"
   ],
   "outputs": [
    {
     "output_type": "stream",
     "name": "stdout",
     "text": [
      "5 5\n",
      "12.7 1.524 2.2679618500000003\n",
      "Enhetskonvertering(varde = 1)\n"
     ]
    }
   ],
   "metadata": {}
  },
  {
   "cell_type": "markdown",
   "source": [
    "## 2. Person "
   ],
   "metadata": {}
  },
  {
   "cell_type": "code",
   "execution_count": 77,
   "source": [
    "class Person:\r\n",
    "    \"\"\"Klass för en person\"\"\"\r\n",
    "    def __init__(self, name: str, age: int, email: str) -> None:\r\n",
    "        self.name = name\r\n",
    "        self.age = age\r\n",
    "        self.email = email\r\n",
    "\r\n",
    "    @ property\r\n",
    "    def name(self) -> str:\r\n",
    "        \"\"\"Hämtar personens namn\"\"\"\r\n",
    "        return self._name\r\n",
    "\r\n",
    "    @ name.setter\r\n",
    "    def name(self, name: str) -> None:\r\n",
    "        \"\"\"Tilldelar personen ett namn\"\"\"\r\n",
    "        # name - must be string\r\n",
    "        if not isinstance(name, str):\r\n",
    "            raise TypeError(\"Namnet måse vara av typen teststräng\")\r\n",
    "        self._name = name\r\n",
    "\r\n",
    "    @ property    \r\n",
    "    def age(self) -> int:\r\n",
    "        \"\"\"Hämtar personens ålder\"\"\"\r\n",
    "        return self._age\r\n",
    "\r\n",
    "    @ age.setter\r\n",
    "    def age(self, age: int) -> None:\r\n",
    "        \"\"\"Tilldelar personen en ålder\"\"\"\r\n",
    "\r\n",
    "        if not isinstance(age, int ):\r\n",
    "            raise TypeError(\"Ålder måste vara ett heltal\")\r\n",
    "        elif age < 0 < 125:                                         # age - must be number between 0 and 125\r\n",
    "            raise ValueError(\"Ålder måste vara mellan 0 och 125 år\")\r\n",
    "        \r\n",
    "        self._age = age\r\n",
    "\r\n",
    "    @ property\r\n",
    "    def email(self) -> str:\r\n",
    "        \"\"\"Hämtar personens e-post\"\"\"\r\n",
    "        return self._email\r\n",
    "\r\n",
    "    @ email.setter\r\n",
    "    def email(self, email: str) -> None:\r\n",
    "        \"\"\"Tilldelar personen en e-post\"\"\"    \r\n",
    "\r\n",
    "        if not isinstance(email, str):\r\n",
    "            raise TypeError(\"E-post måste vara en textsträng\")\r\n",
    "        elif email.find(\"@\") == -1:                             # email - must include an @ sign \r\n",
    "            raise ValueError(\"En e-post ska inehålla ett @\")\r\n",
    "        \r\n",
    "        self._email = email\r\n",
    "    \r\n",
    "    def say_hello(self) -> None:\r\n",
    "        \"Returnerar en hälsningsfras\"\r\n",
    "        print(f\"Hej! Mitt namn är {self.name}. Jag är {self.age} år gammal. Min e-post är {self.email}.\")\r\n",
    "\r\n",
    "    def __repr__(self) -> str:\r\n",
    "        return f\"Person( name = {self.name}, age = {self.age}, email = {self.email} )\"\r\n",
    "    \r\n",
    "\r\n",
    "    "
   ],
   "outputs": [],
   "metadata": {}
  },
  {
   "cell_type": "code",
   "execution_count": 78,
   "source": [
    "p1 = Person(\"Erik\", 25, \"erik.larsson@iths.se\")\r\n",
    "\r\n",
    "print(p1.name, p1.age, p1.email )\r\n",
    "p1.say_hello()\r\n",
    "print(p1)\r\n"
   ],
   "outputs": [
    {
     "output_type": "stream",
     "name": "stdout",
     "text": [
      "Erik 25 erik.larsson@iths.se\n",
      "Hej! Mitt namn är Erik. Jag är 25 år gammal. Min e-post är erik.larsson@iths.se.\n",
      "Person( name = Erik, age = 25, email = erik.larsson@iths.se )\n"
     ]
    }
   ],
   "metadata": {}
  },
  {
   "cell_type": "markdown",
   "source": [
    "## 3. Student and Teacher"
   ],
   "metadata": {}
  },
  {
   "cell_type": "code",
   "execution_count": 91,
   "source": [
    "class Student(Person):\r\n",
    "    \"\"\"Klass mot klass\"\"\"\r\n",
    "    \r\n",
    "    @ staticmethod\r\n",
    "    def study() -> None:\r\n",
    "        print(f\"study...study...study...more study\")\r\n",
    "\r\n",
    "    def say_hello(self) -> None:\r\n",
    "        print(f\"Yoo! Jag är en student. Mitt namn är {self.name}. Jag är {self.age} år gammal. Min epost är {self.email}.\")\r\n",
    "\r\n",
    "\r\n",
    "\r\n",
    "class Teacher(Person):\r\n",
    "    \"\"\"Klass mot lärare\"\"\"\r\n",
    "    \r\n",
    "    @ staticmethod\r\n",
    "    def teach() -> None:\r\n",
    "        print(\"teach...teach...teach...more teaching\")\r\n",
    "        "
   ],
   "outputs": [],
   "metadata": {}
  },
  {
   "cell_type": "code",
   "execution_count": 94,
   "source": [
    "s1 = Student(\"Kalle\", 23, \"kalle@iths.se\")\r\n",
    "\r\n",
    "s1.study()\r\n",
    "Student.study()\r\n",
    "s1.say_hello()\r\n",
    "\r\n",
    "print(\"\")\r\n",
    "t = Teacher(\"Anna\", 35, \"anna@iths.se\")\r\n",
    "t.teach()\r\n",
    "t.say_hello()\r\n",
    "print(t)"
   ],
   "outputs": [
    {
     "output_type": "stream",
     "name": "stdout",
     "text": [
      "study...study...study...more study\n",
      "study...study...study...more study\n",
      "Yoo! Jag är en student. Mitt namn är Kalle. Jag är 23 år gammal. Min epost är kalle@iths.se.\n",
      "\n",
      "teach...teach...teach...more teaching\n",
      "Hej! Mitt namn är Anna. Jag är 35 år gammal. Min e-post är anna@iths.se.\n",
      "Person( name = Anna, age = 35, email = anna@iths.se )\n"
     ]
    }
   ],
   "metadata": {}
  },
  {
   "cell_type": "markdown",
   "source": [
    "## 4. Simple Travian"
   ],
   "metadata": {}
  },
  {
   "cell_type": "code",
   "execution_count": 157,
   "source": [
    "class By:\r\n",
    "    \"\"\"Klass för en by i spelet\"\"\"\r\n",
    "\r\n",
    "    def __init__(self) -> None:\r\n",
    "        \r\n",
    "        self.crop_field = Falt(500)\r\n",
    "        self.clay_field = Falt(500)\r\n",
    "        self.lumber_field = Falt(500)\r\n",
    "        self.iron_field = Falt(500)\r\n",
    "\r\n",
    "\r\n",
    "    def __repr__(self) -> str:\r\n",
    "        return f\"\"\"\r\n",
    "        Stock:     Crop: {self.crop_field.stock}/{self.crop_field.max_stock}     Clay: {self.clay_field.stock}/{self.clay_field.max_stock}     Lumber: {self.lumber_field.stock}/{self.lumber_field.max_stock}     Iron: {self.iron_field.stock}/{self.iron_field.max_stock}\r\n",
    "        Production:\r\n",
    "        Crop:       {self.crop_field.production_rate} per hour\r\n",
    "        Clay:       {self.clay_field.production_rate} per hour\r\n",
    "        Lumber:     {self.lumber_field.production_rate} per hour \r\n",
    "        Iron:       {self.iron_field._production_rate} per hour\r\n",
    "        \r\n",
    "        \"\"\"\r\n",
    "\r\n",
    "\r\n",
    "class Falt:\r\n",
    "    \"\"\"Klass för ett fält\"\"\"\r\n",
    "\r\n",
    "    _max_stock = 800\r\n",
    "    _production_rate= 4\r\n",
    "\r\n",
    "    def __init__(self, stock: int) -> None:\r\n",
    "        self.stock = stock\r\n",
    "        \r\n",
    "      \r\n",
    "    def __add__(self, value: int) -> \"Falt\":\r\n",
    "        self.stock = self.stock + value\r\n",
    "        return self\r\n",
    "\r\n",
    "    def __sub__(self, value: int) -> \"Falt\":\r\n",
    "        self.stock = self.stock - value\r\n",
    "        return self\r\n",
    "\r\n",
    "    @ property\r\n",
    "    def max_stock(self) -> int:\r\n",
    "        return self._max_stock\r\n",
    "    \r\n",
    "    @ property\r\n",
    "    def production_rate(self) -> int:\r\n",
    "        return self._production_rate\r\n",
    "\r\n",
    "\r\n",
    "    @ property\r\n",
    "    def stock(self) -> int:\r\n",
    "        return self._stock\r\n",
    "\r\n",
    "    @ stock.setter\r\n",
    "    def stock(self, stock:  int) -> None:\r\n",
    "        self._stock = stock\r\n",
    "        if self._stock > self._max_stock: \r\n",
    "            print(f\"Maxlager {self._max_stock} enheter.\")\r\n",
    "            self._stock = self._max_stock\r\n",
    "\r\n",
    "    def production(self) -> None:\r\n",
    "        self.stock(self.stock() + self._production_rate)\r\n"
   ],
   "outputs": [],
   "metadata": {}
  },
  {
   "cell_type": "code",
   "execution_count": 158,
   "source": [
    "by = By()\r\n",
    "\r\n",
    "by.crop_field += 500\r\n",
    "by.clay_field -= 25\r\n",
    "by.lumber_field +=200\r\n",
    "\r\n",
    "print( by)\r\n"
   ],
   "outputs": [
    {
     "output_type": "stream",
     "name": "stdout",
     "text": [
      "Maxlager 800 enheter.\n",
      "\n",
      "        Stock:     Crop: 800/800     Clay: 475/800     Lumber: 700/800     Iron: 500/800\n",
      "        Production:\n",
      "        Crop:       4 per hour\n",
      "        Clay:       4 per hour\n",
      "        Lumber:     4 per hour \n",
      "        Iron:       4 per hour\n",
      "        \n",
      "        \n"
     ]
    }
   ],
   "metadata": {}
  }
 ],
 "metadata": {
  "orig_nbformat": 4,
  "language_info": {
   "name": "python",
   "version": "3.9.7",
   "mimetype": "text/x-python",
   "codemirror_mode": {
    "name": "ipython",
    "version": 3
   },
   "pygments_lexer": "ipython3",
   "nbconvert_exporter": "python",
   "file_extension": ".py"
  },
  "kernelspec": {
   "name": "python3",
   "display_name": "Python 3.9.7 64-bit ('python-programming-Erik-Larsson-ctfcgb4Z': pipenv)"
  },
  "interpreter": {
   "hash": "f478fc9176ae27b1fcbca8069f8c2be4be0c1bc7299e1ed03f2b6fc59f3faf8f"
  }
 },
 "nbformat": 4,
 "nbformat_minor": 2
}