{
 "cells": [
  {
   "cell_type": "markdown",
   "source": [
    "# Övning if-satser\r\n"
   ],
   "metadata": {}
  },
  {
   "cell_type": "markdown",
   "source": [
    "## 1. Check sign"
   ],
   "metadata": {}
  },
  {
   "cell_type": "code",
   "execution_count": 11,
   "source": [
    "tal = float( input(\"Ange ett tal: \"))\r\n",
    "\r\n",
    "print( tal)\r\n",
    "\r\n",
    "if tal < 0:\r\n",
    "    print(\"Talet är negativt\")\r\n",
    "elif tal > 0:\r\n",
    "    print(\"Talet är positivt\")\r\n",
    "else:\r\n",
    "    print(\"Talet är 0\")"
   ],
   "outputs": [
    {
     "output_type": "stream",
     "name": "stdout",
     "text": [
      "5.0\n",
      "Talet är positivt\n"
     ]
    }
   ],
   "metadata": {}
  },
  {
   "cell_type": "markdown",
   "source": [
    "## 2. Smallest"
   ],
   "metadata": {}
  },
  {
   "cell_type": "code",
   "execution_count": 15,
   "source": [
    "tal1 = float( input(\"Ange ett tal: \"))\r\n",
    "tal2 = float( input(\"Ange ytterligare ett tal: \"))\r\n",
    "\r\n",
    "print( tal1, tal2)\r\n",
    "print(\"Minsta talet är: \")\r\n",
    "if tal1 <= tal2:\r\n",
    "    print(tal1)\r\n",
    "else:\r\n",
    "    print(tal2)\r\n"
   ],
   "outputs": [
    {
     "output_type": "stream",
     "name": "stdout",
     "text": [
      "-5.0 -8.0\n",
      "Minsta talet är: \n",
      "-8.0\n"
     ]
    }
   ],
   "metadata": {}
  },
  {
   "cell_type": "markdown",
   "source": [
    "## 3. Right angle"
   ],
   "metadata": {}
  },
  {
   "cell_type": "code",
   "execution_count": 20,
   "source": [
    "vinkel1 = float( input(\"Ange vinkel 1: \"))\r\n",
    "vinkel2 = float( input(\"Ange vinkel 2: \"))\r\n",
    "vinkel3 = float( input(\"Ange vinkel 3: \"))\r\n",
    "\r\n",
    "vinkel_summa= vinkel1 + vinkel2 +vinkel3\r\n",
    "\r\n",
    "if vinkel_summa == 180 and vinkel1 > 0 and vinkel2 > 0 and vinkel3 >0:\r\n",
    "    if vinkel1 == 90 or vinkel2 == 90 or vinkel3 == 90:\r\n",
    "        print(\"Det är en rätvinklig triangel\")\r\n",
    "    else:\r\n",
    "        print(\"Det är ingen rätvinklig triangel.\")\r\n",
    "\r\n",
    "else:\r\n",
    "    print(\"Vinklarna är bildar inte en triangel.\")"
   ],
   "outputs": [
    {
     "output_type": "stream",
     "name": "stdout",
     "text": [
      "Det är en rätvinklig triangel\n"
     ]
    }
   ],
   "metadata": {}
  },
  {
   "cell_type": "markdown",
   "source": [
    "## 4. Medicine"
   ],
   "metadata": {}
  },
  {
   "cell_type": "code",
   "execution_count": 26,
   "source": [
    "age = int(input(\"Ange din ålder\"))\r\n",
    "weight = int(input(\"Ange din vikt\"))\r\n",
    "\r\n",
    "if weight >=40:\r\n",
    "    print(\"Ta 1-2 piller.\")\r\n",
    "elif weight >=26:\r\n",
    "    print(\"Ta 1/2-1 piller\")\r\n",
    "elif weight >= 15:\r\n",
    "    print(\"Ta 1/2 piller\")\r\n",
    "else:\r\n",
    "    print(\"Du är för liten\")"
   ],
   "outputs": [
    {
     "output_type": "stream",
     "name": "stdout",
     "text": [
      "Ta 1-2 piller.\n"
     ]
    }
   ],
   "metadata": {}
  },
  {
   "cell_type": "markdown",
   "source": [
    "## 5. Divisible"
   ],
   "metadata": {}
  },
  {
   "cell_type": "code",
   "execution_count": 33,
   "source": [
    "tal = int(input(\"Ange ett heltal: \"))\r\n",
    "\r\n",
    "if tal % 2 != 0 and tal % 5 == 0:\r\n",
    "    print(\"Udda och delbart med 5\")\r\n",
    "else:\r\n",
    "    if tal % 2 == 0:\r\n",
    "        print(\"Jämnt\")\r\n",
    "    else:\r\n",
    "        print(\"Udda\")\r\n",
    "    if tal % 5 == 0:\r\n",
    "        print(\"Delbart med 5\") \r\n",
    "    else:\r\n",
    "        print(\"Ej delbart med 5\")"
   ],
   "outputs": [
    {
     "output_type": "stream",
     "name": "stdout",
     "text": [
      "Udda och delbart med 5\n"
     ]
    }
   ],
   "metadata": {}
  },
  {
   "cell_type": "markdown",
   "source": [
    "## 6. Luggage size"
   ],
   "metadata": {}
  },
  {
   "cell_type": "code",
   "execution_count": 35,
   "source": [
    "weight = float(input(\"Vikt\"))\r\n",
    "length = float(input(\"Längd\"))\r\n",
    "width = float(input(\"Bredd\"))\r\n",
    "height = float(input(\"Höjd\"))\r\n",
    "\r\n",
    "if weight <= 8:\r\n",
    "    if length <= 55 and width <= 40 and height <= 23:\r\n",
    "        print(\"Bagaget är godkänt\")\r\n",
    "    else:\r\n",
    "        print(\"Bagaget är för stort\")\r\n",
    "else:\r\n",
    "    print(\"Bagaget är för tungt\")        "
   ],
   "outputs": [
    {
     "output_type": "stream",
     "name": "stdout",
     "text": [
      "Bagaget är för tungt\n"
     ]
    }
   ],
   "metadata": {}
  },
  {
   "cell_type": "markdown",
   "source": [],
   "metadata": {}
  }
 ],
 "metadata": {
  "orig_nbformat": 4,
  "language_info": {
   "name": "python",
   "version": "3.9.7",
   "mimetype": "text/x-python",
   "codemirror_mode": {
    "name": "ipython",
    "version": 3
   },
   "pygments_lexer": "ipython3",
   "nbconvert_exporter": "python",
   "file_extension": ".py"
  },
  "kernelspec": {
   "name": "python3",
   "display_name": "Python 3.9.7 64-bit"
  },
  "interpreter": {
   "hash": "d4e5a9feda62566fc86059c14677bafd37783dbf04358cae41ec181d1deb8133"
  }
 },
 "nbformat": 4,
 "nbformat_minor": 2
}