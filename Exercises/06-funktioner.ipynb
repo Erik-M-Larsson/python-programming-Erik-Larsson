{
 "cells": [
  {
   "cell_type": "markdown",
   "source": [
    "# 06 Funktioner"
   ],
   "metadata": {}
  },
  {
   "cell_type": "markdown",
   "source": [
    "## 1. Area "
   ],
   "metadata": {}
  },
  {
   "cell_type": "code",
   "execution_count": 6,
   "source": [
    "def triarea(bas, hojd):\r\n",
    "    area = bas * hojd / 2\r\n",
    "    return area\r\n",
    "\r\n",
    "print(triarea(3, 4))\r\n",
    "\r\n",
    "triangelarea = lambda bas, hojd: bas * hojd / 2\r\n",
    "\r\n",
    "print(triangelarea(3, 4))"
   ],
   "outputs": [
    {
     "output_type": "stream",
     "name": "stdout",
     "text": [
      "6.0\n",
      "6.0\n"
     ]
    }
   ],
   "metadata": {}
  },
  {
   "cell_type": "markdown",
   "source": [
    "## 2. Euclidean distance"
   ],
   "metadata": {}
  },
  {
   "cell_type": "code",
   "execution_count": 29,
   "source": [
    "\r\n",
    "def distance(p):\r\n",
    "    \"\"\"Euclidean distance\"\"\"\r\n",
    "    import math\r\n",
    "    return math.sqrt((p[0] - p[2])**2 + (p[1] - p[3])**2)\r\n",
    "\r\n",
    "import re\r\n",
    "punkter = input(\"Ange två punkter: p1 p2 q1 q2\").split()\r\n",
    "punkter = [float(tal) for tal in punkter] #if tal.isdigit() or re.findall(r\"\\d.\\d\", tal)]\r\n",
    "print(punkter)\r\n",
    "print(f\"{distance(punkter):0.1F}\")\r\n"
   ],
   "outputs": [
    {
     "output_type": "stream",
     "name": "stdout",
     "text": [
      "[0.0, 0.0, 10.0, -10.0]\n",
      "14.1\n"
     ]
    }
   ],
   "metadata": {}
  },
  {
   "cell_type": "code",
   "execution_count": 33,
   "source": [
    "x = [10, -1, 10, 4, 9]\r\n",
    "y = [3, -9, -10, -2, -10]\r\n",
    "\r\n",
    "for q1, q2  in zip(x, y): \r\n",
    "    print(round(distance([0, 0, q1, q2]),1))"
   ],
   "outputs": [
    {
     "output_type": "stream",
     "name": "stdout",
     "text": [
      "10.4\n",
      "9.1\n",
      "14.1\n",
      "4.5\n",
      "13.5\n"
     ]
    }
   ],
   "metadata": {}
  },
  {
   "cell_type": "markdown",
   "source": [
    "## 3. Mathematical functions"
   ],
   "metadata": {}
  },
  {
   "cell_type": "code",
   "execution_count": 55,
   "source": [
    "def f(x):\r\n",
    "    return x**2 - 3     # Testa def\r\n",
    "g = lambda x: 4*x - 7   # Testa lambda\r\n",
    "\r\n",
    "\r\n",
    "import matplotlib.pyplot as plt\r\n",
    "import numpy as np\r\n",
    "\r\n",
    "x = np.linspace(-10,10,21)\r\n",
    "y1 = f(x)\r\n",
    "y2 = g(x)\r\n",
    "\r\n",
    "plt.plot(x,y1)\r\n",
    "plt.plot(x,y2)\r\n"
   ],
   "outputs": [
    {
     "output_type": "execute_result",
     "data": {
      "text/plain": [
       "[<matplotlib.lines.Line2D at 0x2be097d05e0>]"
      ]
     },
     "metadata": {},
     "execution_count": 55
    },
    {
     "output_type": "display_data",
     "data": {
      "image/png": "[encoded data removed]",
      "text/plain": [
       "<Figure size 432x288 with 1 Axes>"
      ]
     },
     "metadata": {
      "needs_background": "light"
     }
    }
   ],
   "metadata": {}
  },
  {
   "cell_type": "code",
   "execution_count": null,
   "source": [],
   "outputs": [],
   "metadata": {}
  },
  {
   "cell_type": "markdown",
   "source": [
    "## 4. Name cleaner"
   ],
   "metadata": {}
  },
  {
   "cell_type": "code",
   "execution_count": 76,
   "source": [
    "def rensa_namn(namn):\r\n",
    "    namn =namn.strip()\r\n",
    "    namn =namn.title()\r\n",
    "    return namn\r\n",
    "\r\n",
    "namn_in = [\"  MaRcUs \", \" iDA aNderSon\", \"OLOF Olofsson            \"  ]\r\n",
    "\r\n",
    "for namn in namn_in: \r\n",
    "    print(f\"->{rensa_namn(namn)}<-\") # -> för att visa var strängen börjar\r\n"
   ],
   "outputs": [
    {
     "output_type": "stream",
     "name": "stdout",
     "text": [
      "->Marcus<-\n",
      "->Ida Anderson<-\n",
      "->Olof Olofsson<-\n"
     ]
    }
   ],
   "metadata": {}
  },
  {
   "cell_type": "markdown",
   "source": [
    "## 5. Change"
   ],
   "metadata": {}
  },
  {
   "cell_type": "code",
   "execution_count": 100,
   "source": [
    "def vaxel(bel):\r\n",
    "    valorer = (1000, 500, 200, 100, 50, 20, 10, 5, 2, 1)\r\n",
    "    typ = (\"lapp\", \"lapp\", \"lapp\", \"lapp\", \"lapp\",\"lapp\", \"krona\", \"krona\", \"krona\", \"krona\")\r\n",
    "    for valor, t in zip(valorer, typ):\r\n",
    "        if bel // valor:\r\n",
    "            print(f\"{bel // valor} st {valor}-{t}\") \r\n",
    "        bel = bel % valor\r\n",
    "\r\n",
    "belopp = int(input(\"Ange hur mång kronor: \"))  \r\n",
    "print(f\"{belopp} kr blir: \")\r\n",
    "\r\n",
    "vaxel(belopp)"
   ],
   "outputs": [
    {
     "output_type": "stream",
     "name": "stdout",
     "text": [
      "5489 kr blir: \n",
      "5 st 1000-lapp\n",
      "2 st 200-lapp\n",
      "1 st 50-lapp\n",
      "1 st 20-lapp\n",
      "1 st 10-krona\n",
      "1 st 5-krona\n",
      "2 st 2-krona\n"
     ]
    }
   ],
   "metadata": {}
  }
 ],
 "metadata": {
  "orig_nbformat": 4,
  "language_info": {
   "name": "python",
   "version": "3.9.7",
   "mimetype": "text/x-python",
   "codemirror_mode": {
    "name": "ipython",
    "version": 3
   },
   "pygments_lexer": "ipython3",
   "nbconvert_exporter": "python",
   "file_extension": ".py"
  },
  "kernelspec": {
   "name": "python3",
   "display_name": "Python 3.9.7 64-bit ('python-programming-Erik-Larsson-ctfcgb4Z': pipenv)"
  },
  "interpreter": {
   "hash": "f478fc9176ae27b1fcbca8069f8c2be4be0c1bc7299e1ed03f2b6fc59f3faf8f"
  }
 },
 "nbformat": 4,
 "nbformat_minor": 2
}