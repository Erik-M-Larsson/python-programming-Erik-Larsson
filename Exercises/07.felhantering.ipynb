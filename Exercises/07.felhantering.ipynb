{
 "cells": [
  {
   "cell_type": "markdown",
   "source": [
    "# Felhantering"
   ],
   "metadata": {}
  },
  {
   "cell_type": "markdown",
   "source": [
    "## 1. Find errors"
   ],
   "metadata": {}
  },
  {
   "cell_type": "code",
   "execution_count": null,
   "source": [
    "import numpy as np ## import felstavat\r\n",
    " \r\n",
    "def distance(x,y): ## : saknas\r\n",
    "    return np.sqrt(x**2+y**2) ## retrun felstavat\r\n",
    " \r\n",
    "print(distance(0.5, 0.5)) ## funktionen ska ha två invariabler x och y\r\n",
    " "
   ],
   "outputs": [],
   "metadata": {}
  },
  {
   "cell_type": "markdown",
   "source": [
    "## 2. Find errors"
   ],
   "metadata": {}
  },
  {
   "cell_type": "code",
   "execution_count": null,
   "source": [
    "def is_fourdigit(number):\r\n",
    "    if 1<= abs(number)//1000 < 10: # : saknas\r\n",
    "        return True # True  med versal\r\n",
    "    else: # : saknas\r\n",
    "        return False # False med versal\r\n",
    " \r\n",
    "# test program\r\n",
    "test_numbers = [231, 3124, -4124, -1000,-999, 1001, 10000, -10000, 999]\r\n",
    " \r\n",
    "for number in test_numbers:\r\n",
    "    if is_fourdigit(number):\r\n",
    "        print(f\"{number} is four-digit\")\r\n",
    "    else:\r\n",
    "        print(f\"{number} is not four-digit\")\r\n",
    " "
   ],
   "outputs": [],
   "metadata": {}
  },
  {
   "cell_type": "markdown",
   "source": [
    "## 3. Tram"
   ],
   "metadata": {}
  },
  {
   "cell_type": "code",
   "execution_count": 9,
   "source": [
    "# Importera nödvändiga bibliotek\r\n",
    "import math\r\n",
    "\r\n",
    "# Input antal resor\r\n",
    "maxresor = math.ceil(30*24/1.5)\r\n",
    "while True:\r\n",
    "    resor = input(\"Hur många resor gör du på en måndad: \")\r\n",
    "    try:\r\n",
    "        resor = int(resor)\r\n",
    "        if not 0<= resor <= maxresor:\r\n",
    "            raise ValueError(f\"Antal resor mellan 0 och {maxresor}:'{resor}'\")\r\n",
    "        break\r\n",
    "\r\n",
    "    except ValueError as err:\r\n",
    "        print(err)\r\n",
    "\r\n",
    "# Input pris för enkelbiljett\r\n",
    "maxpris = 999\r\n",
    "while True:\r\n",
    "    pris_enkel = input(\"Vad är priset för en enkelbiljett: \")\r\n",
    "\r\n",
    "    try:\r\n",
    "        pris_enkel = float(pris_enkel)\r\n",
    "        if not 0 <= pris_enkel <= maxpris:   \r\n",
    "            raise ValueError(f\"Priset i intervallet 0 till {maxpris} kr: {pris_enkel}\")\r\n",
    "        break\r\n",
    "    except ValueError as err:\r\n",
    "        print(err)\r\n",
    "\r\n",
    "# Input pris för periodkort\r\n",
    "maxpris = 9999\r\n",
    "while True:\r\n",
    "    pris_manadskort = input(\"Vad är priset för ett måndadskort: \")\r\n",
    "\r\n",
    "    try:\r\n",
    "        pris_manadskort = float(pris_manadskort)\r\n",
    "        if not 0 <= pris_manadskort <= maxpris:\r\n",
    "            raise ValueError(f\"Priset i intervallet 0 till {maxpris} kr: {pris_manadskort}\")\r\n",
    "        break\r\n",
    "    except ValueError as err:\r\n",
    "        print(err)\r\n",
    "\r\n",
    "# Beräkna kostnader per månad\r\n",
    "kostnad_enkel = resor * pris_enkel\r\n",
    "kostnad_manad = pris_manadskort\r\n",
    "\r\n",
    "# Skriv ut kostnader\r\n",
    "print(f\"Kostnad per månad med enkelbiljette är {kostnad_enkel:0.2f} kr.\")\r\n",
    "print(f\"Kostnad per månad med månadskort är {kostnad_manad:0.2f} kr.\")\r\n",
    "\r\n",
    "# Välj vilket alternativ som är fördelaktigt\r\n",
    "if kostnad_manad < kostnad_enkel:    \r\n",
    "    print(f\"Det lönar sig att köpa månadskort. Du sparar {kostnad_enkel -kostnad_manad:0.2f} kr.\")\r\n",
    "else:\r\n",
    "    print(f\"Det lönar sig att köpa enkelbiljetter. Du sparar {kostnad_manad -kostnad_enkel:0.2f} kr.\")"
   ],
   "outputs": [
    {
     "output_type": "stream",
     "name": "stdout",
     "text": [
      "invalid literal for int() with base 10: 'hej'\n",
      "Antal resor mellan 0 och 480:'-34'\n",
      "invalid literal for int() with base 10: '2,5'\n",
      "Priset i intervallet 0 till 9999 kr: -50.0\n",
      "could not convert string to float: 'hj'\n",
      "Kostnad per månad med enkelbiljette är 34.00 kr.\n",
      "Kostnad per månad med månadskort är 5.00 kr.\n",
      "Det lönar sig att köpa månadskort. Du sparar 29.00 kr.\n"
     ]
    }
   ],
   "metadata": {}
  },
  {
   "cell_type": "markdown",
   "source": [],
   "metadata": {}
  },
  {
   "cell_type": "code",
   "execution_count": null,
   "source": [
    "math.ceil(31*24/1.5)"
   ],
   "outputs": [
    {
     "output_type": "execute_result",
     "data": {
      "text/plain": [
       "496"
      ]
     },
     "metadata": {},
     "execution_count": 14
    }
   ],
   "metadata": {}
  }
 ],
 "metadata": {
  "orig_nbformat": 4,
  "language_info": {
   "name": "python",
   "version": "3.9.7",
   "mimetype": "text/x-python",
   "codemirror_mode": {
    "name": "ipython",
    "version": 3
   },
   "pygments_lexer": "ipython3",
   "nbconvert_exporter": "python",
   "file_extension": ".py"
  },
  "kernelspec": {
   "name": "python3",
   "display_name": "Python 3.9.7 64-bit ('python-programming-Erik-Larsson-ctfcgb4Z': pipenv)"
  },
  "interpreter": {
   "hash": "f478fc9176ae27b1fcbca8069f8c2be4be0c1bc7299e1ed03f2b6fc59f3faf8f"
  }
 },
 "nbformat": 4,
 "nbformat_minor": 2
}