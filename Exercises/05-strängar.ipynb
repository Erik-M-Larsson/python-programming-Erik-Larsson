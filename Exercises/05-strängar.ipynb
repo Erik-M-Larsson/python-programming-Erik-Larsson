{
 "cells": [
  {
   "cell_type": "markdown",
   "source": [
    "# Strängar"
   ],
   "metadata": {}
  },
  {
   "cell_type": "markdown",
   "source": [
    "## 1. Counting letters"
   ],
   "metadata": {}
  },
  {
   "cell_type": "code",
   "execution_count": 15,
   "source": [
    "ord = input(\"Skriv in ett ord\")\r\n",
    "\r\n",
    "print(f\"{ord} inehåller {len(ord)} bokstäver.\")\r\n",
    "\r\n",
    "versaler = 0\r\n",
    "for b in ord: \r\n",
    "    if b.isupper(): versaler += 1 \r\n",
    "\r\n",
    "print(f\"Antal versaler: {versaler}.\")"
   ],
   "outputs": [
    {
     "output_type": "stream",
     "name": "stdout",
     "text": [
      "HEjsan inehåller 6 bokstäver.\n",
      "Antal versaler: 2.\n"
     ]
    }
   ],
   "metadata": {}
  },
  {
   "cell_type": "markdown",
   "source": [
    "## 2. Counting words"
   ],
   "metadata": {}
  },
  {
   "cell_type": "code",
   "execution_count": 26,
   "source": [
    "text = \"A picture says more than a thousand words, a matematical formula says more than a thousand pictures.\".split()\r\n",
    "#print(text)\r\n",
    "\r\n",
    "antal_ord = 0\r\n",
    "\r\n",
    "for _ in text: antal_ord +=1\r\n",
    "\r\n",
    "\r\n",
    "print(f\"Antalet ord är: {antal_ord}\")\r\n"
   ],
   "outputs": [
    {
     "output_type": "stream",
     "name": "stdout",
     "text": [
      "Antalet ord är: 17\n"
     ]
    }
   ],
   "metadata": {}
  },
  {
   "cell_type": "markdown",
   "source": [
    "## 3. Palindrome"
   ],
   "metadata": {}
  },
  {
   "cell_type": "code",
   "execution_count": 43,
   "source": [
    "import re\r\n",
    "\r\n",
    "text = input(\"Skriv ett palindrom: \")\r\n",
    "\r\n",
    "text = text.replace(\" \",\"\")\r\n",
    "\r\n",
    "if text == text[::-1]:\r\n",
    "    print(\"Palindrom\")\r\n",
    "else: \r\n",
    "    print(\"Inget palindrom\")\r\n",
    "\r\n",
    "\r\n",
    "print(text[::-1])"
   ],
   "outputs": [
    {
     "output_type": "stream",
     "name": "stdout",
     "text": [
      "Inget palindrom\n",
      "kirE\n"
     ]
    }
   ],
   "metadata": {}
  },
  {
   "cell_type": "markdown",
   "source": [
    "## 4. Vowels"
   ],
   "metadata": {}
  },
  {
   "cell_type": "code",
   "execution_count": 56,
   "source": [
    "import re\r\n",
    "text = \"Pure mathematics is, in its way, the poetry of logical ideas\"\r\n",
    "\r\n",
    "\r\n",
    "vokaler =re.findall(r\"[AaEeIiOoUuYyÅåÄäÖö]\", text)\r\n",
    "len(vokaler)"
   ],
   "outputs": [
    {
     "output_type": "execute_result",
     "data": {
      "text/plain": [
       "22"
      ]
     },
     "metadata": {},
     "execution_count": 56
    }
   ],
   "metadata": {}
  },
  {
   "cell_type": "markdown",
   "source": [
    "## 5. Encryption"
   ],
   "metadata": {}
  },
  {
   "cell_type": "code",
   "execution_count": 25,
   "source": [
    "kryptera = (input(\"Kryptera [j/n]:\"))\r\n",
    "\r\n",
    "alfabet_vanligt = \"ABCDEFGHIJKLMNOPQRSTUVWXYZÅÄÖabcdefghijklmnopqrstuvwxyzåäö\"\r\n",
    "alfabet_krypt = \"BCDEFGHIJKLMNOPQRSTUVWXYZÅÄÖAbcdefghijklmnopqrstuvwxyzåäöa\"\r\n",
    "\r\n",
    "if kryptera == \"j\":\r\n",
    "    ord_in = input(\"Ange ett ord: \")\r\n",
    "elif kryptera == \"n\":\r\n",
    "    ord_in = input(\"Ange ett krypterat ord: \")\r\n",
    "else:\r\n",
    "    print(\"Error\")\r\n",
    "    \r\n",
    "print(ord_in)\r\n",
    "ord_ut = \"\"\r\n",
    "\r\n",
    "if kryptera == \"j\":\r\n",
    "    for b in ord_in:\r\n",
    "        b_ut = alfabet_krypt[alfabet_vanligt.find(b)]\r\n",
    "        ord_ut += b.replace(b, b_ut)\r\n",
    "elif kryptera == \"n\":\r\n",
    "    for b in ord_in:\r\n",
    "        b_ut = alfabet_vanligt[alfabet_krypt.find(b)]\r\n",
    "        ord_ut += b.replace(b, b_ut)\r\n",
    "\r\n",
    "print(ord_ut)"
   ],
   "outputs": [
    {
     "output_type": "stream",
     "name": "stdout",
     "text": [
      "Iatu\n",
      "Höst\n"
     ]
    }
   ],
   "metadata": {}
  },
  {
   "cell_type": "code",
   "execution_count": null,
   "source": [],
   "outputs": [],
   "metadata": {}
  }
 ],
 "metadata": {
  "orig_nbformat": 4,
  "language_info": {
   "name": "python",
   "version": "3.9.7",
   "mimetype": "text/x-python",
   "codemirror_mode": {
    "name": "ipython",
    "version": 3
   },
   "pygments_lexer": "ipython3",
   "nbconvert_exporter": "python",
   "file_extension": ".py"
  },
  "kernelspec": {
   "name": "python3",
   "display_name": "Python 3.9.7 64-bit ('python-programming-Erik-Larsson-ctfcgb4Z': pipenv)"
  },
  "interpreter": {
   "hash": "f478fc9176ae27b1fcbca8069f8c2be4be0c1bc7299e1ed03f2b6fc59f3faf8f"
  }
 },
 "nbformat": 4,
 "nbformat_minor": 2
}