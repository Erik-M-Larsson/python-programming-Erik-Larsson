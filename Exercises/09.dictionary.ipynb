{
 "cells": [
  {
   "cell_type": "markdown",
   "source": [
    "# Dictionary"
   ],
   "metadata": {}
  },
  {
   "cell_type": "markdown",
   "source": [
    "## 1. Curriculum"
   ],
   "metadata": {}
  },
  {
   "cell_type": "code",
   "execution_count": null,
   "source": [
    "\r\n",
    "kurser = {\r\n",
    "    \"Databaser\" : 25,\r\n",
    "    \"Databehandling\" : 25,\r\n",
    "    \"Djup Maskininlärning\" : 40,\r\n",
    "    \"Examensarbete\" : 15,\r\n",
    "    \"Introduktionskurs till AI\" : 5,\r\n",
    "    \"LIA 1\" : 40,\r\n",
    "    \"LIA 2\" : 70,\r\n",
    "    \"Maskininlärning\" : 45,\r\n",
    "    \"Praktisk maskininlärning och projektmetodik\" : 45,\r\n",
    "    \"Programmering med Python\" : 40,\r\n",
    "    \"Praktisk maskininlärning och projektmetodik\" : 45,\r\n",
    "    \"Statistiska metoder\" : 30,\r\n",
    "    \"Visualisering, presentationer och storytelling\" : 20\r\n",
    "}\r\n",
    "\r\n",
    "poang_tot = 0\r\n",
    "for poang in kurser.values():\r\n",
    "    poang_tot += poang\r\n",
    "\r\n",
    "print(f\"Totalt antal poäng i den här utbildningen: {poang_tot}\")"
   ],
   "outputs": [],
   "metadata": {}
  },
  {
   "cell_type": "markdown",
   "source": [
    "## 2. Dice simulation "
   ],
   "metadata": {}
  },
  {
   "cell_type": "code",
   "execution_count": 37,
   "source": [
    "import random as rnd\r\n",
    "\r\n",
    "typ_tarning = 8 # Anatal sidor på tärningen\r\n",
    "n = 10 #00000 # Antal kast med tärningen\r\n",
    "\r\n",
    "dic = { i: 0 for i in range(1, typ_tarning + 1)}\r\n",
    "\r\n",
    "for k in range(n):\r\n",
    "    utgang = rnd.randint(1,typ_tarning)\r\n",
    "    dic[utgang] += 1\r\n",
    "\r\n",
    "for s, a in dic.items():\r\n",
    "    print(f\"{s}: {a}\")"
   ],
   "outputs": [
    {
     "output_type": "stream",
     "name": "stdout",
     "text": [
      "1: 2\n",
      "2: 1\n",
      "3: 0\n",
      "4: 1\n",
      "5: 0\n",
      "6: 1\n",
      "7: 3\n",
      "8: 2\n"
     ]
    }
   ],
   "metadata": {}
  },
  {
   "cell_type": "markdown",
   "source": [
    "## 3. Pokemon list "
   ],
   "metadata": {}
  },
  {
   "cell_type": "code",
   "execution_count": 58,
   "source": [
    "path = \"files\\pokemon_list.txt\"\r\n",
    "pokedex = dict()\r\n",
    "\r\n",
    "with open(path, 'r', encoding= 'utf-8-sig') as f:\r\n",
    "    text = f.readlines()\r\n",
    "\r\n",
    "    for rad in text:\r\n",
    "        rad = rad.split()\r\n",
    "        pokedex[rad[1]] =  f\"{rad[2]}, {rad[0]}\"\r\n",
    "\r\n",
    "print(pokedex[\"Gengar\"])\r\n",
    "print(pokedex[\"Pikachu\"])\r\n"
   ],
   "outputs": [
    {
     "output_type": "stream",
     "name": "stdout",
     "text": [
      "Spöke/Gift, 94\n",
      "Elektrisk, 25\n"
     ]
    }
   ],
   "metadata": {}
  },
  {
   "cell_type": "markdown",
   "source": [
    "## "
   ],
   "metadata": {}
  },
  {
   "cell_type": "code",
   "execution_count": null,
   "source": [],
   "outputs": [],
   "metadata": {}
  }
 ],
 "metadata": {
  "orig_nbformat": 4,
  "language_info": {
   "name": "python",
   "version": "3.9.7",
   "mimetype": "text/x-python",
   "codemirror_mode": {
    "name": "ipython",
    "version": 3
   },
   "pygments_lexer": "ipython3",
   "nbconvert_exporter": "python",
   "file_extension": ".py"
  },
  "kernelspec": {
   "name": "python3",
   "display_name": "Python 3.9.7 64-bit ('python-programming-Erik-Larsson-ctfcgb4Z': pipenv)"
  },
  "interpreter": {
   "hash": "f478fc9176ae27b1fcbca8069f8c2be4be0c1bc7299e1ed03f2b6fc59f3faf8f"
  }
 },
 "nbformat": 4,
 "nbformat_minor": 2
}