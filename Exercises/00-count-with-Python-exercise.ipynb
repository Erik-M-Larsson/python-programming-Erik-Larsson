{
 "cells": [
  {
   "cell_type": "markdown",
   "source": [
    "# Exercise 00 count with Python"
   ],
   "metadata": {}
  },
  {
   "cell_type": "markdown",
   "source": [
    "## 1. Pythagorean theorem\r\n",
    "\r\n"
   ],
   "metadata": {}
  },
  {
   "cell_type": "code",
   "execution_count": 19,
   "source": [
    "import math\r\n",
    "a = 3 \r\n",
    "b = 4\r\n",
    "c = math.sqrt(a**2 + b**2) \r\n",
    "\r\n",
    "print(f\"Svar på fråga a: {c}\")\r\n",
    "\r\n",
    "a = 5.0\r\n",
    "c = 7.0\r\n",
    "b = round( math.sqrt(c**2 - a**2),1 )\r\n",
    "\r\n",
    "\r\n",
    "print(f\"Svar på fråga b: {b}\")\r\n",
    "\r\n",
    "# Edit: det gick tydligen att göra snyggare med avrundning i f-string. Hade inte sett den föreläsningen och orkar inte ändra koden :)"
   ],
   "outputs": [
    {
     "output_type": "stream",
     "name": "stdout",
     "text": [
      "Svar på fråga a: 5.0\n",
      "Svar på fråga b: 4.9\n"
     ]
    }
   ],
   "metadata": {}
  },
  {
   "cell_type": "markdown",
   "source": [
    "## 2. Classification accuracy"
   ],
   "metadata": {}
  },
  {
   "cell_type": "code",
   "execution_count": 18,
   "source": [
    "correct = 300\r\n",
    "total = 365\r\n",
    "\r\n",
    "accuracy = round( 300/365 * 100, 1) # Träffsäkerheten i procent avrundat till 1 decimal (3 väredesiffror).\r\n",
    "\r\n",
    "print(f\"Träffsäkerheten är {accuracy} %.\")\r\n",
    "\r\n"
   ],
   "outputs": [
    {
     "output_type": "stream",
     "name": "stdout",
     "text": [
      "Träffsäkerheten är 82.2 %.\n"
     ]
    }
   ],
   "metadata": {}
  },
  {
   "cell_type": "markdown",
   "source": [
    "## 3. Classification accuracy"
   ],
   "metadata": {}
  },
  {
   "cell_type": "code",
   "execution_count": 7,
   "source": [
    "tp, fp, fn, tn = 2, 2, 11, 985\r\n",
    "\r\n",
    "accuracy = (tp + tn)/(tp + fp + fn + tn) * 100\r\n",
    "\r\n",
    "print(f\"Accuracy är {accuracy:0.01f} %\")"
   ],
   "outputs": [
    {
     "output_type": "stream",
     "name": "stdout",
     "text": [
      "Accuracy är 98.7 %\n"
     ]
    }
   ],
   "metadata": {}
  },
  {
   "cell_type": "markdown",
   "source": [
    "Är det en bra modell?\r\n",
    "\r\n",
    "Nej det är en **usel** modell då den bara hittar 2 av 13 bränder."
   ],
   "metadata": {}
  },
  {
   "cell_type": "markdown",
   "source": [
    "## 4: Line"
   ],
   "metadata": {}
  },
  {
   "cell_type": "code",
   "execution_count": 14,
   "source": [
    "x1, y1, x2, y2 = 0, 1, 4, 4\r\n",
    "\r\n",
    "k = (y2-y1)/(x2 - x1)\r\n",
    "\r\n",
    "print(f\"k = {k}\")\r\n",
    "\r\n",
    "m1 = y1 - k*x1\r\n",
    "m2 = y2 - k*x2\r\n",
    "\r\n",
    "if m1 == m2: # liten koll så vi räknar rätt :)\r\n",
    "    print( f\"m = {m1}\")\r\n",
    "else:\r\n",
    "    print(\"Nu blev något fel :(\")"
   ],
   "outputs": [
    {
     "output_type": "stream",
     "name": "stdout",
     "text": [
      "k = 0.75\n",
      "m = 1.0\n"
     ]
    }
   ],
   "metadata": {}
  },
  {
   "cell_type": "markdown",
   "source": [
    "## 5. Euclidean distance"
   ],
   "metadata": {}
  },
  {
   "cell_type": "code",
   "execution_count": 18,
   "source": [
    "import math\r\n",
    "x1, y1, x2, y2 = 3, 5, -2, 4\r\n",
    "\r\n",
    "s = math.sqrt((x2-x1)**2 + (y2-y1)**2)\r\n",
    "\r\n",
    "print(f\"Sträckan är ca {s:0.0f} längdenheter\") # En värdesiffra i indata. Möjligen kan man aargumentera för att det är teorretiska exakta värden."
   ],
   "outputs": [
    {
     "output_type": "stream",
     "name": "stdout",
     "text": [
      "Sträckan är ca 5\n"
     ]
    }
   ],
   "metadata": {}
  },
  {
   "cell_type": "markdown",
   "source": [
    "##6. Euclidean distance in 3D\r\n"
   ],
   "metadata": {}
  },
  {
   "cell_type": "code",
   "execution_count": 21,
   "source": [
    "import math\r\n",
    "x1, y1, z1, x2, y2, z2 = 2, 1, 4, 3, 1, 0\r\n",
    "\r\n",
    "s = math.sqrt((x2-x1)**2 + (y2-y1)**2 +(z2-z1)**2)\r\n",
    "\r\n",
    "print(f\"Sträckan är ca {s:0.0f} längdenheter\")"
   ],
   "outputs": [
    {
     "output_type": "stream",
     "name": "stdout",
     "text": [
      "Sträckan är ca 4 längdenheter\n"
     ]
    }
   ],
   "metadata": {}
  },
  {
   "cell_type": "markdown",
   "source": [
    "## Slut :)"
   ],
   "metadata": {}
  },
  {
   "cell_type": "markdown",
   "source": [],
   "metadata": {}
  }
 ],
 "metadata": {
  "orig_nbformat": 4,
  "language_info": {
   "name": "python",
   "version": "3.9.7",
   "mimetype": "text/x-python",
   "codemirror_mode": {
    "name": "ipython",
    "version": 3
   },
   "pygments_lexer": "ipython3",
   "nbconvert_exporter": "python",
   "file_extension": ".py"
  },
  "kernelspec": {
   "name": "python3",
   "display_name": "Python 3.9.7 64-bit"
  },
  "interpreter": {
   "hash": "d4e5a9feda62566fc86059c14677bafd37783dbf04358cae41ec181d1deb8133"
  }
 },
 "nbformat": 4,
 "nbformat_minor": 2
}