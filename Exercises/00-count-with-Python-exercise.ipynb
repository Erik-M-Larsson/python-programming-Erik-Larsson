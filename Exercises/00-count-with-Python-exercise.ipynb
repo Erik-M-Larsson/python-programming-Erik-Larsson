{
 "cells": [
  {
   "cell_type": "markdown",
   "source": [
    "# Exercise 00 count with Python"
   ],
   "metadata": {}
  },
  {
   "cell_type": "markdown",
   "source": [
    "## 1. Pythagorean theorem\r\n",
    "\r\n"
   ],
   "metadata": {}
  },
  {
   "cell_type": "code",
   "execution_count": 16,
   "source": [
    "import math\r\n",
    "a = 3 \r\n",
    "b = 4\r\n",
    "c = math.sqrt(a**2 + b**2) \r\n",
    "\r\n",
    "print(f\"Svar på fråga a: {c}\")\r\n",
    "\r\n",
    "a = 5.0\r\n",
    "c = 7.0\r\n",
    "b = round( math.sqrt(c**2 - a**2),1 )\r\n",
    "\r\n",
    "\r\n",
    "print(f\"Svar på fråga b: {b}\")"
   ],
   "outputs": [
    {
     "output_type": "stream",
     "name": "stdout",
     "text": [
      "Svar på fråga a: 5.0\n",
      "Svar på fråga b: 4.9\n"
     ]
    }
   ],
   "metadata": {}
  },
  {
   "cell_type": "markdown",
   "source": [
    "## 2. Classification accuracy"
   ],
   "metadata": {}
  },
  {
   "cell_type": "code",
   "execution_count": 17,
   "source": [
    "correct = 300\r\n",
    "total = 365\r\n",
    "\r\n",
    "accuracy = round( 300/365 * 100, 1) # Träffsäkerheten i procent avrundat till 1 decimal (3 väredesiffror).\r\n",
    "\r\n",
    "print(f\"Träffsäkerheten är {accuracy} %.\")"
   ],
   "outputs": [
    {
     "output_type": "stream",
     "name": "stdout",
     "text": [
      "Noggrannheten är 82.2 %.\n"
     ]
    }
   ],
   "metadata": {}
  }
 ],
 "metadata": {
  "orig_nbformat": 4,
  "language_info": {
   "name": "python",
   "version": "3.9.7",
   "mimetype": "text/x-python",
   "codemirror_mode": {
    "name": "ipython",
    "version": 3
   },
   "pygments_lexer": "ipython3",
   "nbconvert_exporter": "python",
   "file_extension": ".py"
  },
  "kernelspec": {
   "name": "python3",
   "display_name": "Python 3.9.7 64-bit"
  },
  "interpreter": {
   "hash": "d4e5a9feda62566fc86059c14677bafd37783dbf04358cae41ec181d1deb8133"
  }
 },
 "nbformat": 4,
 "nbformat_minor": 2
}