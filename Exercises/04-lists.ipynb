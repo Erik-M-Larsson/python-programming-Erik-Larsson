{
 "cells": [
  {
   "cell_type": "markdown",
   "source": [
    "# list exercises"
   ],
   "metadata": {}
  },
  {
   "cell_type": "markdown",
   "source": [
    "## 1. Dice rolls"
   ],
   "metadata": {}
  },
  {
   "cell_type": "code",
   "execution_count": 10,
   "source": [
    "import random as rnd\r\n",
    "\r\n",
    "tarningskast = [rnd.randint(1,6) for _ in range(10)]\r\n",
    "\r\n",
    "print(tarningskast)\r\n",
    "\r\n",
    "tarningskast.sort()\r\n",
    "print(tarningskast)\r\n",
    "\r\n",
    "tarningskast.sort(reverse = True)\r\n",
    "print(tarningskast)\r\n",
    "\r\n",
    "print(f\"Lägsta värde {tarningskast[-1]}\")\r\n",
    "print(f\"Högsta värde {tarningskast[0]}\")"
   ],
   "outputs": [
    {
     "output_type": "stream",
     "name": "stdout",
     "text": [
      "[2, 5, 6, 2, 2, 5, 3, 1, 5, 2]\n",
      "[1, 2, 2, 2, 2, 3, 5, 5, 5, 6]\n",
      "[6, 5, 5, 5, 3, 2, 2, 2, 2, 1]\n",
      "Lägsta värde 1\n",
      "Högsta värde 6\n"
     ]
    }
   ],
   "metadata": {}
  },
  {
   "cell_type": "markdown",
   "source": [],
   "metadata": {}
  },
  {
   "cell_type": "markdown",
   "source": [
    "## 2. Food menu"
   ],
   "metadata": {}
  },
  {
   "cell_type": "code",
   "execution_count": 25,
   "source": [
    "matratter = [ \"vegetarisk lasagne\", \"spagetti\", \"fisk\", \"grönsakssoppa\", \"pannkakor\"]\r\n",
    "veckodagar = [\"Måndag\", \"Tisdag\", \"Onsdag\", \"Torsdag\", \"Fredag\"]\r\n",
    "print(\"Meny\")\r\n",
    "for i, dag in enumerate(veckodagar):\r\n",
    "    print(dag,\": \", matratter[i],sep=\"\")"
   ],
   "outputs": [
    {
     "output_type": "stream",
     "name": "stdout",
     "text": [
      "Meny\n",
      "Måndag: vegetarisk lasagne\n",
      "Tisdag: spagetti\n",
      "Onsdag: fisk\n",
      "Torsdag: grönsakssoppa\n",
      "Fredag: pannkakor\n"
     ]
    }
   ],
   "metadata": {}
  },
  {
   "cell_type": "markdown",
   "source": [
    "## 3. Squares\r\n"
   ],
   "metadata": {}
  },
  {
   "cell_type": "code",
   "execution_count": 40,
   "source": [
    "import matplotlib.pyplot as plt\r\n",
    "\r\n",
    "kvadrater = [x**2 for x in range(-10, 10+1)]\r\n",
    "print(kvadrater)\r\n",
    "\r\n",
    "plt.plot(range(-10, 10+1), kvadrater)\r\n",
    "plt.title(\"y = y^2\")\r\n",
    "plt.xlabel(\"x\")\r\n",
    "plt.ylabel(\"y\")\r\n",
    "plt.figure(dpi=100)"
   ],
   "outputs": [
    {
     "output_type": "stream",
     "name": "stdout",
     "text": [
      "[100, 81, 64, 49, 36, 25, 16, 9, 4, 1, 0, 1, 4, 9, 16, 25, 36, 49, 64, 81, 100]\n"
     ]
    },
    {
     "output_type": "execute_result",
     "data": {
      "text/plain": [
       "<Figure size 600x400 with 0 Axes>"
      ]
     },
     "metadata": {},
     "execution_count": 40
    },
    {
     "output_type": "display_data",
     "data": {
      "image/png": "[encoded data removed]",
      "text/plain": [
       "<Figure size 432x288 with 1 Axes>"
      ]
     },
     "metadata": {
      "needs_background": "light"
     }
    },
    {
     "output_type": "display_data",
     "data": {
      "text/plain": [
       "<Figure size 600x400 with 0 Axes>"
      ]
     },
     "metadata": {}
    }
   ],
   "metadata": {}
  },
  {
   "cell_type": "markdown",
   "source": [
    "## 4. Chessboard"
   ],
   "metadata": {}
  },
  {
   "cell_type": "code",
   "execution_count": 49,
   "source": [
    "\r\n",
    "rad1 = [f\"{i}1\" for i in list(\"ABCDEFGH\")]\r\n",
    "\r\n",
    "rad1\r\n",
    "\r\n"
   ],
   "outputs": [
    {
     "output_type": "execute_result",
     "data": {
      "text/plain": [
       "['A1', 'B1', 'C1', 'D1', 'E1', 'F1', 'G1', 'H1']"
      ]
     },
     "metadata": {},
     "execution_count": 49
    }
   ],
   "metadata": {}
  },
  {
   "cell_type": "code",
   "execution_count": 51,
   "source": [
    "brade= [[f\"{i}{j}\" for i in list(\"ABCDEFGH\")] for j in range(1,8+1)]\r\n",
    "\r\n",
    "brade"
   ],
   "outputs": [
    {
     "output_type": "execute_result",
     "data": {
      "text/plain": [
       "[['A1', 'B1', 'C1', 'D1', 'E1', 'F1', 'G1', 'H1'],\n",
       " ['A2', 'B2', 'C2', 'D2', 'E2', 'F2', 'G2', 'H2'],\n",
       " ['A3', 'B3', 'C3', 'D3', 'E3', 'F3', 'G3', 'H3'],\n",
       " ['A4', 'B4', 'C4', 'D4', 'E4', 'F4', 'G4', 'H4'],\n",
       " ['A5', 'B5', 'C5', 'D5', 'E5', 'F5', 'G5', 'H5'],\n",
       " ['A6', 'B6', 'C6', 'D6', 'E6', 'F6', 'G6', 'H6'],\n",
       " ['A7', 'B7', 'C7', 'D7', 'E7', 'F7', 'G7', 'H7'],\n",
       " ['A8', 'B8', 'C8', 'D8', 'E8', 'F8', 'G8', 'H8']]"
      ]
     },
     "metadata": {},
     "execution_count": 51
    }
   ],
   "metadata": {}
  },
  {
   "cell_type": "markdown",
   "source": [
    "## 5. Dice rolls convergence"
   ],
   "metadata": {}
  },
  {
   "cell_type": "code",
   "execution_count": 85,
   "source": [
    "import random as rnd\r\n",
    "rnd.seed(1)\r\n",
    "antal_kast = [10, 100, 1000, 10000, 100000, 1000000 ]\r\n",
    "\r\n",
    "sexor = 0\r\n",
    "sexor_lista = []\r\n",
    "andel_sexor = []\r\n",
    "for kast in antal_kast: \r\n",
    "    for j in range(kast):\r\n",
    "        utfall = rnd.randint(1,6)\r\n",
    "        if utfall == 6:\r\n",
    "            sexor += 1\r\n",
    "\r\n",
    "    sexor_lista.append(sexor)\r\n",
    "    andel_sexor.append(sexor/kast)\r\n",
    "\r\n",
    "\r\n",
    "plt.plot(andel_sexor, '-*')\r\n",
    "plt.title(\"Probability of six for different number of rolls\")\r\n",
    "plt.xticks([0,1,2,3,4,5], antal_kast);\r\n",
    "plt.xlabel(\"Number of dice rolls\")\r\n",
    "plt.ylabel(\"Probability\")\r\n"
   ],
   "outputs": [
    {
     "output_type": "execute_result",
     "data": {
      "text/plain": [
       "Text(0, 0.5, 'Probability')"
      ]
     },
     "metadata": {},
     "execution_count": 85
    },
    {
     "output_type": "display_data",
     "data": {
      "image/png": "[encoded data removed]",
      "text/plain": [
       "<Figure size 432x288 with 1 Axes>"
      ]
     },
     "metadata": {
      "needs_background": "light"
     }
    }
   ],
   "metadata": {}
  },
  {
   "cell_type": "code",
   "execution_count": 87,
   "source": [
    "import math\r\n",
    "math.tau # tau :D"
   ],
   "outputs": [
    {
     "output_type": "execute_result",
     "data": {
      "text/plain": [
       "6.283185307179586"
      ]
     },
     "metadata": {},
     "execution_count": 87
    }
   ],
   "metadata": {}
  },
  {
   "cell_type": "code",
   "execution_count": null,
   "source": [],
   "outputs": [],
   "metadata": {}
  }
 ],
 "metadata": {
  "orig_nbformat": 4,
  "language_info": {
   "name": "python",
   "version": "3.9.7",
   "mimetype": "text/x-python",
   "codemirror_mode": {
    "name": "ipython",
    "version": 3
   },
   "pygments_lexer": "ipython3",
   "nbconvert_exporter": "python",
   "file_extension": ".py"
  },
  "kernelspec": {
   "name": "python3",
   "display_name": "Python 3.9.7 64-bit ('python-programming-Erik-Larsson-ctfcgb4Z': pipenv)"
  },
  "interpreter": {
   "hash": "f478fc9176ae27b1fcbca8069f8c2be4be0c1bc7299e1ed03f2b6fc59f3faf8f"
  }
 },
 "nbformat": 4,
 "nbformat_minor": 2
}