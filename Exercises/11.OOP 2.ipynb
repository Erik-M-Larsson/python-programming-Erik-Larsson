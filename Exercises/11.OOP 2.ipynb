{
 "cells": [
  {
   "cell_type": "markdown",
   "source": [
    "# 11. OOP 2\r\n"
   ],
   "metadata": {}
  },
  {
   "cell_type": "markdown",
   "source": [
    "## 1. Video"
   ],
   "metadata": {}
  },
  {
   "cell_type": "code",
   "execution_count": 24,
   "source": [
    "class Video:\r\n",
    "    \"\"\"Klass för rörlig bild\"\"\"\r\n",
    "\r\n",
    "    def __init__(self, title: str, genre: str, rating: float = 0) -> None:\r\n",
    "        self.tile = title\r\n",
    "        self.genre = genre\r\n",
    "        self.rating = rating\r\n",
    "    \r\n",
    "\r\n",
    "    def info(self) -> str:\r\n",
    "        return f\"Video with title {self.tile}, genre {self.genre} and rating {self.rating}.\"\r\n",
    "\r\n",
    "\r\n",
    "class TV_serie(Video):\r\n",
    "    \"Klass för tv-serier\"\r\n",
    "\r\n",
    "    def __init__(self, title: str, genre: str, num_episodes: int, rating: float = 0 ) -> None:\r\n",
    "        super().__init__(title, genre, rating)\r\n",
    "        self.num_episodes = num_episodes\r\n",
    "\r\n",
    "    def info(self) -> str:\r\n",
    "        return f\"TV-serie with title {self.tile}, genre {self.genre}, rating {self.rating} and episodes {self.num_episodes}.\"\r\n",
    "    \r\n",
    "class Movie(Video):\r\n",
    "    \"\"\"Klass för långfilmer\"\"\"\r\n",
    "\r\n",
    "    def __init__(self, title: str, genre: str, duration: float, rating: float = 0) -> None:\r\n",
    "        super().__init__(title, genre, rating = rating)\r\n",
    "        self.duration = duration\r\n",
    "\r\n",
    "    def info(self) -> str:\r\n",
    "        return f\"Movie with title {self.tile}, genre {self.genre}, rating {self.rating} and duration {self.duration} minutes.\"\r\n",
    "\r\n",
    "\r\n",
    "class Documentary(Video):\r\n",
    "    \"\"\"Klass för dokumentärer\"\"\"\r\n",
    "    pass"
   ],
   "outputs": [],
   "metadata": {}
  },
  {
   "cell_type": "markdown",
   "source": [
    "### Test "
   ],
   "metadata": {}
  },
  {
   "cell_type": "code",
   "execution_count": 25,
   "source": [
    "pokemon = TV_serie(\"Pokemon\", \"Cartoon\", 4.5, 550)\r\n",
    "titanic = Movie(\"Titanic\", \"Romance\", 4.7, 194)\r\n",
    "code = Documentary(\"The Code\", \"Math\", 4)\r\n",
    "\r\n",
    "for video in tuple((pokemon, titanic, code)):\r\n",
    "    print(video.info())"
   ],
   "outputs": [
    {
     "output_type": "stream",
     "name": "stdout",
     "text": [
      "TV-serie with title Pokemon, genre Cartoon, rating 550 and episodes 4.5.\n",
      "Movie with title Titanic, genre Romance, rating 194 and duration 4.7 minutes.\n",
      "Video with title The Code, genre Math and rating 4.\n"
     ]
    }
   ],
   "metadata": {}
  },
  {
   "cell_type": "markdown",
   "source": [
    "## 2. Fraction"
   ],
   "metadata": {}
  },
  {
   "cell_type": "code",
   "execution_count": 5,
   "source": [
    "from typing import Union\r\n",
    "\r\n",
    "class Fraction:\r\n",
    "    \"\"\"Klass för bråktal\"\"\"\r\n",
    "\r\n",
    "    def __init__(self, taljare: int, namnare: int) -> None:\r\n",
    "        self.taljare = taljare\r\n",
    "        self.namnare = namnare\r\n",
    "    \r\n",
    "    @property\r\n",
    "    def taljare(self) -> int:\r\n",
    "        \"\"\"Returnerar värdet för taljare\"\"\"\r\n",
    "        return self._taljare \r\n",
    "\r\n",
    "    @taljare.setter\r\n",
    "    def taljare(self, t: int) -> None:\r\n",
    "        \"\"\"Tilldelar värdet för taljare\"\"\"\r\n",
    "\r\n",
    "        if not isinstance (t, int):\r\n",
    "            raise TypeError(\"Måste vara ett heltal\") \r\n",
    "            \r\n",
    "        self._taljare = t\r\n",
    "    \r\n",
    "\r\n",
    "    @property\r\n",
    "    def namnare(self) -> int:\r\n",
    "        \"\"\"Returnerar värdet för nämnaren\"\"\"\r\n",
    "        return self._namnare\r\n",
    "\r\n",
    "    @namnare.setter\r\n",
    "    def namnare(self, n: int) -> None:\r\n",
    "        \"\"\"Tilldelar värdet för nämnaren\"\"\"\r\n",
    "\r\n",
    "        if not isinstance(n, int):\r\n",
    "            raise TypeError(\"Måste vara ett heltal\")\r\n",
    "        if n == 0:\r\n",
    "            raise ValueError(\"Nämnaren kan inte vara noll (0)\")\r\n",
    "        \r\n",
    "        self._namnare = n\r\n",
    "\r\n",
    "\r\n",
    "    def __str__(self) -> str:\r\n",
    "\r\n",
    "        if (self.namnare < 0) != (self.taljare <0):\r\n",
    "            string = \"-\"\r\n",
    "        else:\r\n",
    "            string = \"\"\r\n",
    "\r\n",
    "        if self.namnare != 1:\r\n",
    "            string += f\"{abs(self.taljare)}/{abs(self.namnare)}\"\r\n",
    "        else:\r\n",
    "            string += f\"{abs(self.taljare)}\"\r\n",
    "        \r\n",
    "        return string\r\n",
    "\r\n",
    "    def __add__(self, other: Union[\"Fraction\", int]) -> \"Fraction\":\r\n",
    "        if isinstance(other, int):\r\n",
    "            other = Fraction(other, 1)\r\n",
    "       \r\n",
    "        taljare = self.taljare * other.namnare + other.taljare * self.namnare\r\n",
    "        namnare = self.namnare * other.namnare\r\n",
    "\r\n",
    "        return Fraction(taljare, namnare).simplify()\r\n",
    "\r\n",
    "    def __radd__(self, other: Union[\"Fraction\", int]) -> \"Fraction\":\r\n",
    "        return self.__add__(other)\r\n",
    "\r\n",
    "    def __sub__(self, other: \"Fraction\") -> \"Fraction\":\r\n",
    "\r\n",
    "        taljare = self.taljare * other.namnare - other.taljare * self.namnare\r\n",
    "        namnare = self.namnare * other.namnare\r\n",
    "\r\n",
    "        return Fraction(taljare, namnare)\r\n",
    "\r\n",
    "    def __mul__(self, other: \"Fraction\") -> \"Fraction\":\r\n",
    "\r\n",
    "        taljare = self.taljare * other.taljare\r\n",
    "        namnare = self.namnare * other.namnare\r\n",
    "\r\n",
    "        return Fraction(taljare, namnare).simplify()\r\n",
    "\r\n",
    "    def __truediv__(self, other: \"Fraction\") -> \"Fraction\":\r\n",
    "\r\n",
    "        taljare = self.taljare * other.namnare\r\n",
    "        namnare = self.namnare * other.taljare\r\n",
    "\r\n",
    "\r\n",
    "        return Fraction(taljare, namnare).simplify()\r\n",
    "\r\n",
    "    def simplify(self, value: int = None) -> \"Fraction\":\r\n",
    "\r\n",
    "        if value:\r\n",
    "            return Fraction( self.taljare // value, self.namnare // value)\r\n",
    "        else:\r\n",
    "            \r\n",
    "            a = self.taljare \r\n",
    "            b = self.namnare\r\n",
    "            \r\n",
    "            while b:\r\n",
    "                a, b = b, a%b\r\n",
    "                    \r\n",
    "            return Fraction(self.taljare//a, self.namnare//a)\r\n",
    "\r\n",
    "    def mixed(self) -> str:\r\n",
    "\r\n",
    "        t = self.taljare\r\n",
    "        n = self.namnare\r\n",
    "        sign = t*n // abs(t*n)\r\n",
    "\r\n",
    "        t = abs(t)\r\n",
    "        n = abs(n)\r\n",
    "\r\n",
    "        heltalsdel = t//n\r\n",
    "        rest = t % n\r\n",
    "\r\n",
    "        return f\"{sign*heltalsdel} {Fraction(rest, n).simplify()}\"\r\n",
    "\r\n",
    "    def __eq__(self, other: \"Fraction\") -> bool:\r\n",
    "        \r\n",
    "        return self.simplify().taljare == other.simplify().taljare and self.simplify().namnare == other.simplify().namnare\r\n",
    "\r\n",
    "\r\n",
    "\r\n"
   ],
   "outputs": [],
   "metadata": {}
  },
  {
   "cell_type": "markdown",
   "source": [
    "- 1/2 + 1/3 = 5/6\r\n",
    "- 1/2 - 1/3 = 1/6\r\n",
    "- 7/6 --> 1 1/6 (mixed)\r\n",
    "- 3*1/2 = 3/2\r\n",
    "- 1/2 * 3 = 3/2\r\n",
    "- 1/4 + 2 = 9/4\r\n",
    "- 1/4 / 1/2 = 1/2\r\n",
    "- 2/4 == 1/2 --> True\r\n",
    "- 3/4 += 2 = 11/4\r\n"
   ],
   "metadata": {}
  },
  {
   "cell_type": "code",
   "execution_count": 12,
   "source": [
    "print(Fraction(1, 2) + Fraction(1, 3))\r\n",
    "print(Fraction(1, 2) - Fraction(1, 3))\r\n",
    "print(Fraction(7, 6).mixed())\r\n",
    "print(Fraction(3, 1) * Fraction(1, 2))\r\n",
    "print(Fraction(1, 4) + 2)\r\n",
    "print(2 + Fraction(1, 4))\r\n",
    "print(Fraction(1, 4) / Fraction(1, 2))\r\n",
    "print(Fraction(2, 4) == Fraction(1, 2))\r\n",
    "f1 =Fraction(3, 4) \r\n",
    "f1 +=  2\r\n",
    "print(f1)"
   ],
   "outputs": [
    {
     "output_type": "stream",
     "name": "stdout",
     "text": [
      "5/6\n",
      "1/6\n",
      "1 1/6\n",
      "3/2\n",
      "9/4\n",
      "9/4\n",
      "1/2\n",
      "True\n",
      "11/4\n"
     ]
    }
   ],
   "metadata": {}
  }
 ],
 "metadata": {
  "orig_nbformat": 4,
  "language_info": {
   "name": "python",
   "version": "3.9.7",
   "mimetype": "text/x-python",
   "codemirror_mode": {
    "name": "ipython",
    "version": 3
   },
   "pygments_lexer": "ipython3",
   "nbconvert_exporter": "python",
   "file_extension": ".py"
  },
  "kernelspec": {
   "name": "python3",
   "display_name": "Python 3.9.7 64-bit ('python-programming-Erik-Larsson-ctfcgb4Z': pipenv)"
  },
  "interpreter": {
   "hash": "f478fc9176ae27b1fcbca8069f8c2be4be0c1bc7299e1ed03f2b6fc59f3faf8f"
  }
 },
 "nbformat": 4,
 "nbformat_minor": 2
}