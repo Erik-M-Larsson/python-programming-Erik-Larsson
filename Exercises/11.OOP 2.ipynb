{
 "cells": [
  {
   "cell_type": "markdown",
   "source": [
    "# 11. OOP 2\r\n"
   ],
   "metadata": {}
  },
  {
   "cell_type": "markdown",
   "source": [
    "## 1. Video"
   ],
   "metadata": {}
  },
  {
   "cell_type": "code",
   "execution_count": 24,
   "source": [
    "class Video:\r\n",
    "    \"\"\"Klass för rörlig bild\"\"\"\r\n",
    "\r\n",
    "    def __init__(self, title: str, genre: str, rating: float = 0) -> None:\r\n",
    "        self.tile = title\r\n",
    "        self.genre = genre\r\n",
    "        self.rating = rating\r\n",
    "    \r\n",
    "\r\n",
    "    def info(self) -> str:\r\n",
    "        return f\"Video with title {self.tile}, genre {self.genre} and rating {self.rating}.\"\r\n",
    "\r\n",
    "\r\n",
    "class TV_serie(Video):\r\n",
    "    \"Klass för tv-serier\"\r\n",
    "\r\n",
    "    def __init__(self, title: str, genre: str, num_episodes: int, rating: float = 0 ) -> None:\r\n",
    "        super().__init__(title, genre, rating)\r\n",
    "        self.num_episodes = num_episodes\r\n",
    "\r\n",
    "    def info(self) -> str:\r\n",
    "        return f\"TV-serie with title {self.tile}, genre {self.genre}, rating {self.rating} and episodes {self.num_episodes}.\"\r\n",
    "    \r\n",
    "class Movie(Video):\r\n",
    "    \"\"\"Klass för långfilmer\"\"\"\r\n",
    "\r\n",
    "    def __init__(self, title: str, genre: str, duration: float, rating: float = 0) -> None:\r\n",
    "        super().__init__(title, genre, rating = rating)\r\n",
    "        self.duration = duration\r\n",
    "\r\n",
    "    def info(self) -> str:\r\n",
    "        return f\"Movie with title {self.tile}, genre {self.genre}, rating {self.rating} and duration {self.duration} minutes.\"\r\n",
    "\r\n",
    "\r\n",
    "class Documentary(Video):\r\n",
    "    \"\"\"Klass för dokumentärer\"\"\"\r\n",
    "    pass"
   ],
   "outputs": [],
   "metadata": {}
  },
  {
   "cell_type": "markdown",
   "source": [
    "### Test "
   ],
   "metadata": {}
  },
  {
   "cell_type": "code",
   "execution_count": 25,
   "source": [
    "pokemon = TV_serie(\"Pokemon\", \"Cartoon\", 4.5, 550)\r\n",
    "titanic = Movie(\"Titanic\", \"Romance\", 4.7, 194)\r\n",
    "code = Documentary(\"The Code\", \"Math\", 4)\r\n",
    "\r\n",
    "for video in tuple((pokemon, titanic, code)):\r\n",
    "    print(video.info())"
   ],
   "outputs": [
    {
     "output_type": "stream",
     "name": "stdout",
     "text": [
      "TV-serie with title Pokemon, genre Cartoon, rating 550 and episodes 4.5.\n",
      "Movie with title Titanic, genre Romance, rating 194 and duration 4.7 minutes.\n",
      "Video with title The Code, genre Math and rating 4.\n"
     ]
    }
   ],
   "metadata": {}
  },
  {
   "cell_type": "markdown",
   "source": [
    "## 2. Fraction"
   ],
   "metadata": {}
  },
  {
   "cell_type": "markdown",
   "source": [
    "- 1/2 + 1/3 = 5/6\r\n",
    "- 1/2 - 1/3 = 1/6\r\n",
    "- 7/6 --> 1 1/6 (mixed)\r\n",
    "- 3*1/2 = 3/2\r\n",
    "- 1/2 * 3 = 3/2\r\n",
    "- 1/4 + 2 = 9/4\r\n",
    "- 1/4 / 1/2 = 1/2\r\n",
    "- 2/4 == 1/2 --> True\r\n",
    "- 3/4 += 2 = 11/4\r\n"
   ],
   "metadata": {}
  },
  {
   "cell_type": "code",
   "execution_count": 14,
   "source": [
    "print(\"\")\r\n",
    "from fraction import Fraction\r\n",
    "\r\n",
    "print(Fraction(1, 2) + Fraction(1, 3))\r\n",
    "print(Fraction(1, 2) - Fraction(1, 3))\r\n",
    "print(Fraction(7, 6).mixed())\r\n",
    "print(Fraction(3, 1) * Fraction(1, 2))\r\n",
    "print(Fraction(1, 4) + 2)\r\n",
    "print(2 + Fraction(1, 4))\r\n",
    "print(Fraction(1, 4) / Fraction(1, 2))\r\n",
    "print(Fraction(2, 4) == Fraction(1, 2))\r\n",
    "f1 =Fraction(3, 4) \r\n",
    "f1 +=  2\r\n",
    "print(f1)\r\n",
    "f1 = Fraction(3, -9)\r\n",
    "f1 = f1.simplify()\r\n",
    "print(f1.taljare, f1.namnare)"
   ],
   "outputs": [
    {
     "output_type": "stream",
     "name": "stdout",
     "text": [
      "\n",
      "5/6\n",
      "1/6\n",
      "1 1/6\n",
      "3/2\n",
      "9/4\n",
      "9/4\n",
      "1/2\n",
      "True\n",
      "11/4\n",
      "-1 3\n"
     ]
    }
   ],
   "metadata": {}
  },
  {
   "cell_type": "code",
   "execution_count": 6,
   "source": [
    "from tester import TestFraction\r\n",
    "\r\n",
    "TestFraction()\r\n",
    "\r\n",
    "\r\n"
   ],
   "outputs": [
    {
     "output_type": "execute_result",
     "data": {
      "text/plain": [
       "<tester.TestFraction testMethod=runTest>"
      ]
     },
     "metadata": {},
     "execution_count": 6
    }
   ],
   "metadata": {}
  }
 ],
 "metadata": {
  "orig_nbformat": 4,
  "language_info": {
   "name": "python",
   "version": "3.9.7",
   "mimetype": "text/x-python",
   "codemirror_mode": {
    "name": "ipython",
    "version": 3
   },
   "pygments_lexer": "ipython3",
   "nbconvert_exporter": "python",
   "file_extension": ".py"
  },
  "kernelspec": {
   "name": "python3",
   "display_name": "Python 3.9.7 64-bit ('python-programming-Erik-Larsson-ctfcgb4Z': pipenv)"
  },
  "interpreter": {
   "hash": "f478fc9176ae27b1fcbca8069f8c2be4be0c1bc7299e1ed03f2b6fc59f3faf8f"
  }
 },
 "nbformat": 4,
 "nbformat_minor": 2
}