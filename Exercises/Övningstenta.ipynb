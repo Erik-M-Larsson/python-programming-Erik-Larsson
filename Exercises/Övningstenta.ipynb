{
 "cells": [
  {
   "cell_type": "code",
   "execution_count": 2,
   "source": [
    "import random as rn \r\n",
    "\r\n",
    "n = 1000000 \t\t# Antal kast \r\n",
    "\r\n",
    "t = 6 \t\t# Typ av tärning (antal sidor) \r\n",
    "\r\n",
    "stat = [ 0 for _  in range(t)] \t# Initiera en lista  med t positioner      \r\n",
    "\r\n",
    "for _ in range(n):\t# Loopa n ggr  \r\n",
    "\r\n",
    "    utfall = rn.randint(0, t-1) \t# slumpa  heltal 1 till t  \r\n",
    "\r\n",
    "    stat[utfall] +=  1\t# Ökat med 1 för utfall \r\n",
    "\r\n",
    "print(stat)\t# Skriv ut resultatet \r\n",
    "\r\n",
    " \r\n",
    "\r\n",
    " "
   ],
   "outputs": [
    {
     "output_type": "stream",
     "name": "stdout",
     "text": [
      "[166149, 166775, 166996, 166575, 166500, 167005]\n"
     ]
    }
   ],
   "metadata": {}
  },
  {
   "cell_type": "code",
   "execution_count": 16,
   "source": [
    "from math import tau\r\n",
    "\r\n",
    "def volym_sfär(r: float) -> float: \r\n",
    "\r\n",
    "    return  2* tau * r**3  / 3 \r\n",
    "\r\n",
    " \r\n",
    "\r\n",
    "try: \r\n",
    "    radie = float(input(\"Ange radien på sfären: \")) \r\n",
    "\r\n",
    "    if radie < 0: \r\n",
    "        \r\n",
    "\t    raise ValueError(\"Radien kan inte vara negativ\") \r\n",
    "\r\n",
    "except ValueError as err: \r\n",
    "\r\n",
    "\tprint(err) \r\n",
    "    \r\n",
    "    \r\n",
    "except TypeError as err: \r\n",
    "\r\n",
    "    print(err) \r\n",
    "else:\r\n",
    "    print(f\"Volymen för sfären är: {volym_sfär(radie)}\") "
   ],
   "outputs": [
    {
     "output_type": "stream",
     "name": "stdout",
     "text": [
      "Volymen för sfären är: 113.09733552923255\n"
     ]
    }
   ],
   "metadata": {}
  },
  {
   "cell_type": "code",
   "execution_count": 9,
   "source": [
    "path = 'bamba.txt' \r\n",
    "\r\n",
    "with open(path, 'r') as f: \r\n",
    "\r\n",
    "\ttext = f.readlines() \r\n",
    "\r\n",
    "for r in text: \r\n",
    "\r\n",
    "\tprint(r) "
   ],
   "outputs": [
    {
     "output_type": "stream",
     "name": "stdout",
     "text": [
      "v42\n",
      "\n",
      "Chili sin carne\n",
      "\n",
      "Pannkakor\n",
      "\n",
      "Ã„rtsoppa\n",
      "\n",
      "Kebab\n",
      "\n",
      "Vegetarisk lasagne\n"
     ]
    }
   ],
   "metadata": {}
  }
 ],
 "metadata": {
  "orig_nbformat": 4,
  "language_info": {
   "name": "python",
   "version": "3.9.7",
   "mimetype": "text/x-python",
   "codemirror_mode": {
    "name": "ipython",
    "version": 3
   },
   "pygments_lexer": "ipython3",
   "nbconvert_exporter": "python",
   "file_extension": ".py"
  },
  "kernelspec": {
   "name": "python3",
   "display_name": "Python 3.9.7 64-bit ('python-programming-Erik-Larsson-ctfcgb4Z': pipenv)"
  },
  "interpreter": {
   "hash": "f478fc9176ae27b1fcbca8069f8c2be4be0c1bc7299e1ed03f2b6fc59f3faf8f"
  }
 },
 "nbformat": 4,
 "nbformat_minor": 2
}