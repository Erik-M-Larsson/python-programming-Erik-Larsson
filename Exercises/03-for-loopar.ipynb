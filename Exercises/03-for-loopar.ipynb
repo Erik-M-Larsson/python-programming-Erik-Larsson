{
 "cells": [
  {
   "cell_type": "markdown",
   "source": [
    "# For-loopar"
   ],
   "metadata": {}
  },
  {
   "cell_type": "markdown",
   "source": [
    "## 1. Count numbers"
   ],
   "metadata": {}
  },
  {
   "cell_type": "code",
   "execution_count": 6,
   "source": [
    "# a\r\n",
    "for i in range(-10,11):\r\n",
    "    print(f\"{i}\", end=\" \")\r\n",
    "\r\n",
    "print(\"\")\r\n",
    "# b    \r\n",
    "for i in range(-10, 11, 2):\r\n",
    "    print(f\"{i}\", end=\" \")"
   ],
   "outputs": [
    {
     "output_type": "stream",
     "name": "stdout",
     "text": [
      "-10 -9 -8 -7 -6 -5 -4 -3 -2 -1 0 1 2 3 4 5 6 7 8 9 10 \n",
      "-10 -8 -6 -4 -2 0 2 4 6 8 10 "
     ]
    }
   ],
   "metadata": {}
  },
  {
   "cell_type": "markdown",
   "source": [
    "## 2. Arithmetic sum"
   ],
   "metadata": {}
  },
  {
   "cell_type": "code",
   "execution_count": 9,
   "source": [
    "# a\r\n",
    "summa = 0\r\n",
    "\r\n",
    "for i in range(1, 101):\r\n",
    "    summa += i\r\n",
    "\r\n",
    "print(f\"Summa {summa}\")\r\n",
    "\r\n",
    "# b\r\n",
    "summa = 0\r\n",
    "\r\n",
    "for i in range(1, 101, 2):\r\n",
    "    summa += i\r\n",
    "\r\n",
    "print(f\"Summa {summa}\")\r\n"
   ],
   "outputs": [
    {
     "output_type": "stream",
     "name": "stdout",
     "text": [
      "Summa 5050\n",
      "Summa 2500\n"
     ]
    }
   ],
   "metadata": {}
  },
  {
   "cell_type": "markdown",
   "source": [
    "## 3. Multiplication table"
   ],
   "metadata": {}
  },
  {
   "cell_type": "code",
   "execution_count": 13,
   "source": [
    "# a\r\n",
    "\r\n",
    "for i in range(11):\r\n",
    "    print(f\"{i} * 6 = {i * 6}\")"
   ],
   "outputs": [
    {
     "output_type": "stream",
     "name": "stdout",
     "text": [
      "0 * 6 = 0\n",
      "1 * 6 = 6\n",
      "2 * 6 = 12\n",
      "3 * 6 = 18\n",
      "4 * 6 = 24\n",
      "5 * 6 = 30\n",
      "6 * 6 = 36\n",
      "7 * 6 = 42\n",
      "8 * 6 = 48\n",
      "9 * 6 = 54\n",
      "10 * 6 = 60\n"
     ]
    }
   ],
   "metadata": {}
  },
  {
   "cell_type": "code",
   "execution_count": 19,
   "source": [
    "# b\r\n",
    "tabell = int(input(\"Vilken gångertabell?\"))\r\n",
    "start = int(input(\"Vilket värde ska det börja med?\"))\r\n",
    "slut = int(input(\"Vilket värde ska det sluta med med?\"))\r\n",
    "\r\n",
    "for i in range(start, slut +1):\r\n",
    "    print(f\"{i} * {tabell} = {i * tabell}\")"
   ],
   "outputs": [
    {
     "output_type": "stream",
     "name": "stdout",
     "text": [
      "2 * 4 = 8\n",
      "3 * 4 = 12\n",
      "4 * 4 = 16\n",
      "5 * 4 = 20\n",
      "6 * 4 = 24\n",
      "7 * 4 = 28\n",
      "8 * 4 = 32\n"
     ]
    }
   ],
   "metadata": {}
  },
  {
   "cell_type": "code",
   "execution_count": 43,
   "source": [
    "# c\r\n",
    "\r\n",
    "for i in range(11):\r\n",
    "\r\n",
    "    for j in range (11):\r\n",
    "        if i * j <10:\r\n",
    "            print(\"  \",end=\"\")\r\n",
    "        elif i*j < 100:\r\n",
    "            print(\" \",end=\"\")\r\n",
    "            \r\n",
    "        \r\n",
    "        print(f\"{i * j}\",end= \" \")\r\n",
    "\r\n",
    "    print() "
   ],
   "outputs": [
    {
     "output_type": "stream",
     "name": "stdout",
     "text": [
      "  0   0   0   0   0   0   0   0   0   0   0 \n",
      "  0   1   2   3   4   5   6   7   8   9  10 \n",
      "  0   2   4   6   8  10  12  14  16  18  20 \n",
      "  0   3   6   9  12  15  18  21  24  27  30 \n",
      "  0   4   8  12  16  20  24  28  32  36  40 \n",
      "  0   5  10  15  20  25  30  35  40  45  50 \n",
      "  0   6  12  18  24  30  36  42  48  54  60 \n",
      "  0   7  14  21  28  35  42  49  56  63  70 \n",
      "  0   8  16  24  32  40  48  56  64  72  80 \n",
      "  0   9  18  27  36  45  54  63  72  81  90 \n",
      "  0  10  20  30  40  50  60  70  80  90 100 \n"
     ]
    }
   ],
   "metadata": {}
  },
  {
   "cell_type": "code",
   "execution_count": 39,
   "source": [
    "# Test skriva ut lista\r\n",
    "lista = [1, 2, 3]\r\n",
    "print(*lista, sep=\", \")"
   ],
   "outputs": [
    {
     "output_type": "stream",
     "name": "stdout",
     "text": [
      "1, 2, 3\n"
     ]
    }
   ],
   "metadata": {}
  },
  {
   "cell_type": "markdown",
   "source": [
    "## 4. Faculty"
   ],
   "metadata": {}
  },
  {
   "cell_type": "code",
   "execution_count": 62,
   "source": [
    "n = int(input(\"Ange n\"))\r\n",
    "\r\n",
    "    \r\n",
    "fakultet = 1\r\n",
    "\r\n",
    "\r\n",
    "for i in range(2,n+1):\r\n",
    "   #print(i)\r\n",
    "   fakultet *= i\r\n",
    "\r\n",
    "print(f\"{n}! = {fakultet}\")   "
   ],
   "outputs": [
    {
     "output_type": "stream",
     "name": "stdout",
     "text": [
      "0! = 1\n"
     ]
    }
   ],
   "metadata": {}
  },
  {
   "cell_type": "markdown",
   "source": [
    "## 5. Guess the number"
   ],
   "metadata": {}
  },
  {
   "cell_type": "code",
   "execution_count": 74,
   "source": [
    "# Den här uppgiften borde lösas med en while-loop istället.\r\n",
    "\r\n",
    "import random as rnd\r\n",
    "\r\n",
    "tal = rnd.randint(1000,9999)\r\n",
    "\r\n",
    "\r\n",
    "for i in range(1000, 9999):\r\n",
    "    if i == tal:\r\n",
    "        break\r\n",
    "\r\n",
    "print(f\"tal = {tal}\")\r\n",
    "print(f\"i = {i}\")"
   ],
   "outputs": [
    {
     "output_type": "stream",
     "name": "stdout",
     "text": [
      "tal = 8585\n",
      "i = 8585\n"
     ]
    }
   ],
   "metadata": {}
  },
  {
   "cell_type": "markdown",
   "source": [
    "## 6. Rice on chessboard"
   ],
   "metadata": {}
  },
  {
   "cell_type": "code",
   "execution_count": 87,
   "source": [
    "riskorn = 1\r\n",
    "\r\n",
    "for i in range(1, 63+1):\r\n",
    "    #print(riskorn)\r\n",
    "    riskorn += 2**i\r\n",
    "\r\n",
    "print(riskorn, \"riskorn\")    "
   ],
   "outputs": [
    {
     "output_type": "stream",
     "name": "stdout",
     "text": [
      "18446744073709551615 riskorn\n"
     ]
    }
   ],
   "metadata": {}
  }
 ],
 "metadata": {
  "orig_nbformat": 4,
  "language_info": {
   "name": "python",
   "version": "3.9.7",
   "mimetype": "text/x-python",
   "codemirror_mode": {
    "name": "ipython",
    "version": 3
   },
   "pygments_lexer": "ipython3",
   "nbconvert_exporter": "python",
   "file_extension": ".py"
  },
  "kernelspec": {
   "name": "python3",
   "display_name": "Python 3.9.7 64-bit ('python-programming-Erik-Larsson-ctfcgb4Z': pipenv)"
  },
  "interpreter": {
   "hash": "f478fc9176ae27b1fcbca8069f8c2be4be0c1bc7299e1ed03f2b6fc59f3faf8f"
  }
 },
 "nbformat": 4,
 "nbformat_minor": 2
}