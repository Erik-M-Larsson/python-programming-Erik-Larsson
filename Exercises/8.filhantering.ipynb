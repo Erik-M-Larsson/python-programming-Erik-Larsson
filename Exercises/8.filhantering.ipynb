{
 "cells": [
  {
   "cell_type": "markdown",
   "source": [
    "# Filhantering"
   ],
   "metadata": {}
  },
  {
   "cell_type": "markdown",
   "source": [
    "## 1. Dice rolls"
   ],
   "metadata": {}
  },
  {
   "cell_type": "code",
   "execution_count": 35,
   "source": [
    "import random as rnd\r\n",
    "\r\n",
    "\r\n",
    "path = \"files/dice_rolls.txt\"\r\n",
    "\r\n",
    "with open(path, \"w\", encoding= \"utf8\") as f:\r\n",
    "    f.write(\"20 tärningskast\\n\")\r\n",
    "\r\n",
    "    tarningar = [ rnd.randint(1,6) for _ in range(0,19)]\r\n",
    "    #print(tarningar)\r\n",
    "    for t in tarningar:\r\n",
    "        f.write(f\"{t} \")\r\n",
    "\r\n",
    "    f.write(\"\\n\\n20 tärningskast sorterade\\n\")\r\n",
    "    tarningar.sort()\r\n",
    "    for t in tarningar:\r\n",
    "        f.write(f\"{t} \")\r\n",
    "    #print(tarningar)\r\n",
    "\r\n",
    "    f.write(\"\\n\\nAntalet fyror: \")\r\n",
    "    fyror = tarningar.count(4)\r\n",
    "    #print(fyror)\r\n",
    "    f.write(f\"{fyror}\")\r\n",
    "\r\n",
    "\r\n"
   ],
   "outputs": [],
   "metadata": {}
  },
  {
   "cell_type": "code",
   "execution_count": null,
   "source": [],
   "outputs": [],
   "metadata": {}
  }
 ],
 "metadata": {
  "orig_nbformat": 4,
  "language_info": {
   "name": "python",
   "version": "3.9.7",
   "mimetype": "text/x-python",
   "codemirror_mode": {
    "name": "ipython",
    "version": 3
   },
   "pygments_lexer": "ipython3",
   "nbconvert_exporter": "python",
   "file_extension": ".py"
  },
  "kernelspec": {
   "name": "python3",
   "display_name": "Python 3.9.7 64-bit ('python-programming-Erik-Larsson-ctfcgb4Z': pipenv)"
  },
  "interpreter": {
   "hash": "f478fc9176ae27b1fcbca8069f8c2be4be0c1bc7299e1ed03f2b6fc59f3faf8f"
  }
 },
 "nbformat": 4,
 "nbformat_minor": 2
}