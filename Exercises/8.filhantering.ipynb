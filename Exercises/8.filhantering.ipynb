{
 "cells": [
  {
   "cell_type": "markdown",
   "source": [
    "# Filhantering"
   ],
   "metadata": {}
  },
  {
   "cell_type": "markdown",
   "source": [
    "## 1. Dice rolls"
   ],
   "metadata": {}
  },
  {
   "cell_type": "code",
   "execution_count": 110,
   "source": [
    "import random as rnd\r\n",
    "\r\n",
    "\r\n",
    "path = \"files/dice_rolls.txt\"\r\n",
    "\r\n",
    "\r\n",
    "\r\n",
    "with open(path, \"w\", encoding= \"utf8\") as f:\r\n",
    "    f.write(\"20 tärningskast\\n\")\r\n",
    "\r\n",
    "    tarningar = [ rnd.randint(1,6) for _ in range(0,19)]\r\n",
    "    #print(tarningar)\r\n",
    "    for t in tarningar:\r\n",
    "        f.write(f\"{t} \")\r\n",
    "\r\n",
    "    f.write(\"\\n\\n20 tärningskast sorterade\\n\")\r\n",
    "    tarningar.sort()\r\n",
    "    for t in tarningar:\r\n",
    "        f.write(f\"{t} \")\r\n",
    "    #print(tarningar)\r\n",
    "\r\n",
    "    f.write(\"\\n\\nAntalet fyror: \")\r\n",
    "    fyror = tarningar.count(4)\r\n",
    "    #print(fyror)\r\n",
    "    f.write(f\"{fyror}\")\r\n",
    "\r\n",
    "\r\n"
   ],
   "outputs": [],
   "metadata": {}
  },
  {
   "cell_type": "markdown",
   "source": [
    "## 2. Test results"
   ],
   "metadata": {}
  },
  {
   "cell_type": "code",
   "execution_count": 49,
   "source": [
    "path = \"files/test_result.txt\"\r\n",
    "\r\n",
    "with open(path, \"r\", encoding= \"utf8\") as f1, open(path, \"r+\", encoding= \"utf8\") as f2:\r\n",
    "    # uppgift a   \r\n",
    "        text = f1.read()\r\n",
    "        print(text)\r\n",
    "\r\n",
    "    # uppgift b\r\n",
    "        text = [rad.strip() for rad in f2.readlines()]\r\n",
    "        sorterad_text = text\r\n",
    "        sorterad_text.sort()\r\n",
    "\r\n",
    "        #print(sorterad_text)\r\n",
    "        f2.write(\"\\n\\nSorterade alfabetiskt\\n\\n\")\r\n",
    "        for rad in sorterad_text: \r\n",
    "           f2.write(f\"{rad}\\n\")\r\n",
    "\r\n",
    "    # uppgift c   \r\n",
    "        betyg =[]\r\n",
    "        for  rad in text: # Skapa en lista med betygen för varje person\r\n",
    "            poang = int(rad[-2:])\r\n",
    "            #print(poang)\r\n",
    "            if poang < 20:\r\n",
    "                b = \"F\"\r\n",
    "            elif poang <= 29:\r\n",
    "                b = \"E\"\r\n",
    "            elif poang <= 39:\r\n",
    "                b = \"D\"\r\n",
    "            elif poang <= 49:\r\n",
    "                b = \"C\"\r\n",
    "            elif poang <= 59:\r\n",
    "                b = \"B\"\r\n",
    "            else:\r\n",
    "                b = \"A\"\r\n",
    "            betyg.append(b)\r\n",
    "            #print(betyg)\r\n",
    "        \r\n",
    "        betyg, text = zip(*sorted(zip(betyg, text), reverse = True)) # sortera listorna efter betyg\r\n",
    "        f2.write(\"\\n\\nSorterade efter betyg\")\r\n",
    "        \r\n",
    "        betygssteg =['F', 'E', 'D', 'C', 'B', 'A']\r\n",
    "        \r\n",
    "        for i,b in enumerate(betyg_steg): # skriv ut varje rad för varje betyg\r\n",
    "            start = betyg.index(b)\r\n",
    "            if i < len(betyg_steg) - 1:\r\n",
    "                stopp = betyg.index(betygssteg[i+1])\r\n",
    "            else:\r\n",
    "                stopp = len(betyg)\r\n",
    "\r\n",
    "            f2.write(f\"\\n\\nBetyg {b}: \")\r\n",
    "            for rad in text[start: stopp]:\r\n",
    "                f2.write('\\n' + rad)\r\n",
    "        \r\n",
    "    "
   ],
   "outputs": [
    {
     "output_type": "stream",
     "name": "stdout",
     "text": [
      "Adam Gustafsson 25\n",
      "Emil Johansson 23\n",
      "Sven Erik Karlsson 13\n",
      "Ove Karlsten 41\n",
      "Emma Boden 32\n",
      "Ida Håkansson 23\n",
      "Ella Ester 41\n",
      "Hanna Karlsson 23 \n",
      "Johan Johansson 42\n",
      "Sven Erik Lundin 39\n",
      "Björn Björnsson 39\n",
      "Karl Karlsson 32\n",
      "Bose Bosseson 32\n",
      "Håkan Håkanson 24\n",
      "Jonas Jonasson 31\n",
      "Erik Eriksson 31\n",
      "Gore Bord 55\n",
      "Jakob Kallander 65\n",
      "Fredrika Ulven 10\n"
     ]
    }
   ],
   "metadata": {}
  },
  {
   "cell_type": "code",
   "execution_count": null,
   "source": [],
   "outputs": [],
   "metadata": {}
  },
  {
   "cell_type": "code",
   "execution_count": null,
   "source": [],
   "outputs": [],
   "metadata": {}
  }
 ],
 "metadata": {
  "orig_nbformat": 4,
  "language_info": {
   "name": "python",
   "version": "3.9.7",
   "mimetype": "text/x-python",
   "codemirror_mode": {
    "name": "ipython",
    "version": 3
   },
   "pygments_lexer": "ipython3",
   "nbconvert_exporter": "python",
   "file_extension": ".py"
  },
  "kernelspec": {
   "name": "python3",
   "display_name": "Python 3.9.7 64-bit ('python-programming-Erik-Larsson-ctfcgb4Z': pipenv)"
  },
  "interpreter": {
   "hash": "f478fc9176ae27b1fcbca8069f8c2be4be0c1bc7299e1ed03f2b6fc59f3faf8f"
  }
 },
 "nbformat": 4,
 "nbformat_minor": 2
}