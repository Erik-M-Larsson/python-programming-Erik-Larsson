{
 "cells": [
  {
   "cell_type": "markdown",
   "source": [
    "# Filhantering"
   ],
   "metadata": {}
  },
  {
   "cell_type": "markdown",
   "source": [
    "## 1. Dice rolls"
   ],
   "metadata": {}
  },
  {
   "cell_type": "code",
   "execution_count": 110,
   "source": [
    "import random as rnd\r\n",
    "\r\n",
    "\r\n",
    "path = \"files/dice_rolls.txt\"\r\n",
    "\r\n",
    "\r\n",
    "\r\n",
    "with open(path, \"w\", encoding= \"utf8\") as f:\r\n",
    "    f.write(\"20 tärningskast\\n\")\r\n",
    "\r\n",
    "    tarningar = [ rnd.randint(1,6) for _ in range(0,19)]\r\n",
    "    #print(tarningar)\r\n",
    "    for t in tarningar:\r\n",
    "        f.write(f\"{t} \")\r\n",
    "\r\n",
    "    f.write(\"\\n\\n20 tärningskast sorterade\\n\")\r\n",
    "    tarningar.sort()\r\n",
    "    for t in tarningar:\r\n",
    "        f.write(f\"{t} \")\r\n",
    "    #print(tarningar)\r\n",
    "\r\n",
    "    f.write(\"\\n\\nAntalet fyror: \")\r\n",
    "    fyror = tarningar.count(4)\r\n",
    "    #print(fyror)\r\n",
    "    f.write(f\"{fyror}\")\r\n",
    "\r\n",
    "\r\n"
   ],
   "outputs": [],
   "metadata": {}
  },
  {
   "cell_type": "markdown",
   "source": [
    "## 2. Test results"
   ],
   "metadata": {}
  },
  {
   "cell_type": "code",
   "execution_count": 63,
   "source": [
    "path = \"files/test_result.txt\"\r\n",
    "\r\n",
    "with open(path, \"r\", encoding= \"utf8\") as f1, open(path, \"r+\", encoding= \"utf8\") as f2:\r\n",
    "    # uppgift a   \r\n",
    "        text = f1.read()\r\n",
    "        print(text)\r\n",
    "\r\n",
    "    # uppgift b\r\n",
    "        text = [rad.strip() for rad in f2.readlines()]\r\n",
    "        sorterad_text = text\r\n",
    "        sorterad_text.sort()\r\n",
    "\r\n",
    "        #print(sorterad_text)\r\n",
    "        f2.write(\"\\n\\nSorterade alfabetiskt\\n\\n\")\r\n",
    "        for rad in sorterad_text: \r\n",
    "           f2.write(f\"{rad}\\n\")\r\n",
    "\r\n",
    "    # uppgift c   \r\n",
    "        betyg =[]\r\n",
    "        for  rad in text: # Skapa en lista med betygen för varje person\r\n",
    "            poang = int(rad[-2:])\r\n",
    "            #print(poang)\r\n",
    "            if poang < 20:\r\n",
    "                b = \"F\"\r\n",
    "            elif poang <= 29:\r\n",
    "                b = \"E\"\r\n",
    "            elif poang <= 39:\r\n",
    "                b = \"D\"\r\n",
    "            elif poang <= 49:\r\n",
    "                b = \"C\"\r\n",
    "            elif poang <= 59:\r\n",
    "                b = \"B\"\r\n",
    "            else:\r\n",
    "                b = \"A\"\r\n",
    "            betyg.append(b)\r\n",
    "            #print(betyg)\r\n",
    "        \r\n",
    "        betyg, text = zip(*sorted(zip(betyg, text), reverse = True)) # sortera listorna efter betyg\r\n",
    "        f2.write(\"\\n\\nSorterade efter betyg\")\r\n",
    "        \r\n",
    "        betygssteg =['F', 'E', 'D', 'C', 'B', 'A']\r\n",
    "        \r\n",
    "        for i,b in enumerate(betyg_steg): # skriv ut varje rad för varje betyg\r\n",
    "            start = betyg.index(b)\r\n",
    "            if i < len(betyg_steg) - 1:\r\n",
    "                stopp = betyg.index(betygssteg[i+1])\r\n",
    "            else:\r\n",
    "                stopp = len(betyg)\r\n",
    "\r\n",
    "            f2.write(f\"\\n\\nBetyg {b}: \")\r\n",
    "            for rad in text[start: stopp]:\r\n",
    "                f2.write('\\n' + rad)\r\n",
    "        \r\n",
    "    "
   ],
   "outputs": [
    {
     "output_type": "stream",
     "name": "stdout",
     "text": [
      "Adam Gustafsson 25\n",
      "Emil Johansson 23\n",
      "Sven Erik Karlsson 13\n",
      "Ove Karlsten 41\n",
      "Emma Boden 32\n",
      "Ida Håkansson 23\n",
      "Ella Ester 41\n",
      "Hanna Karlsson 23 \n",
      "Johan Johansson 42\n",
      "Sven Erik Lundin 39\n",
      "Björn Björnsson 39\n",
      "Karl Karlsson 32\n",
      "Bose Bosseson 32\n",
      "Håkan Håkanson 24\n",
      "Jonas Jonasson 31\n",
      "Erik Eriksson 31\n",
      "Gore Bord 55\n",
      "Jakob Kallander 65\n",
      "Fredrika Ulven 10\n"
     ]
    }
   ],
   "metadata": {}
  },
  {
   "cell_type": "markdown",
   "source": [
    "## 3. National test"
   ],
   "metadata": {}
  },
  {
   "cell_type": "code",
   "execution_count": 112,
   "source": [
    "import matplotlib.pyplot as plt\r\n",
    "\r\n",
    "path1 = \"files/NPvt19Ma2A.txt\"\r\n",
    "path2 = \"files/NPvt19Ma2C.txt\"\r\n",
    "path =[path1, path2]\r\n",
    "rubriker = (\"NP Ma2A\", \"NP Ma2C\")\r\n",
    "\r\n",
    "# Byt bakgrundsfärg\r\n",
    "fig = plt.figure()\r\n",
    "fig.patch.set_facecolor('white')\r\n",
    "\r\n",
    "for i, p in enumerate(path):\r\n",
    "    with open(p,'r') as f: # Edit: borde ligga utanför for men orkar inte ändra nu\r\n",
    "        text = f.readlines()\r\n",
    "        \r\n",
    "        betygssteg = [r[0] for r in text]\r\n",
    "        andelar = [float(r.strip()[2:-2]) for r in text]\r\n",
    "\r\n",
    "\r\n",
    "    # Skapa cirkeldiagram\r\n",
    "    plt.subplot(1, 2, i+1)\r\n",
    "    plt.pie(andelar, labels= betygssteg)\r\n",
    "    plt.title(rubriker[i])\r\n",
    "\r\n",
    "plt.show() # Byt bakgrundsfärg\r\n",
    "fig = plt.figure()\r\n",
    "fig.patch.set_facecolor('white')\r\n",
    "\r\n"
   ],
   "outputs": [
    {
     "output_type": "display_data",
     "data": {
      "image/png": "[encoded data removed]",
      "text/plain": [
       "<Figure size 432x288 with 2 Axes>"
      ]
     },
     "metadata": {}
    },
    {
     "output_type": "display_data",
     "data": {
      "text/plain": [
       "<Figure size 432x288 with 0 Axes>"
      ]
     },
     "metadata": {}
    }
   ],
   "metadata": {}
  },
  {
   "cell_type": "markdown",
   "source": [
    "## 4. Dice roll experiment"
   ],
   "metadata": {}
  },
  {
   "cell_type": "code",
   "execution_count": 181,
   "source": [
    "import random as rnd\r\n",
    "\r\n",
    "antal_kast = [10, 100, 1000, 10000, 100000]\r\n",
    "varden = [\"Ettor\", \"Tvåor\", \"Treor\", \"Fyror\", \"Femor\", \"Sexor\", \"Sjuor\", \"Åttor\"]\r\n",
    "path = \"files/simulation.txt\"\r\n",
    "\r\n",
    "with open(path, 'w', encoding=\"utf8\") as f:\r\n",
    "    f.write(f\"Typ av tärning: T{len(varden)}\\n\\n\")\r\n",
    "    for antal in antal_kast:\r\n",
    "        utfall = [0 for _ in varden] # Lista med 6 positioner ed värde noll\r\n",
    "        sannolikhet = utfall # Lista med 6 positioner ed värde noll\r\n",
    "        #print(antal)\r\n",
    "        for i in range(antal):\r\n",
    "            kast = rnd.randint(0, len(varden)-1)\r\n",
    "            utfall[kast] += 1\r\n",
    "\r\n",
    "        sannolikhet = [utf / antal for utf in utfall]\r\n",
    "        f.write(f\"Antal kast: {antal}\\n\")\r\n",
    "        for i, varde in enumerate(varden):\r\n",
    "            f.write(f\"{varde} {utfall[i]}, sannolikhet: {sannolikhet[i]}\\n\")\r\n",
    "        \r\n",
    "        f.write(\"\\n\")\r\n",
    "\r\n",
    "    f.seek(0, 2)              # seek to end of file; f.seek(0, os.SEEK_END) is legal\r\n",
    "    f.seek(f.tell() - 4, 0)  # seek to the second last char of file; f.seek(f.tell()-2, os.SEEK_SET) is legal\r\n",
    "    f.truncate()\r\n"
   ],
   "outputs": [],
   "metadata": {}
  }
 ],
 "metadata": {
  "orig_nbformat": 4,
  "language_info": {
   "name": "python",
   "version": "3.9.7",
   "mimetype": "text/x-python",
   "codemirror_mode": {
    "name": "ipython",
    "version": 3
   },
   "pygments_lexer": "ipython3",
   "nbconvert_exporter": "python",
   "file_extension": ".py"
  },
  "kernelspec": {
   "name": "python3",
   "display_name": "Python 3.9.7 64-bit ('python-programming-Erik-Larsson-ctfcgb4Z': pipenv)"
  },
  "interpreter": {
   "hash": "f478fc9176ae27b1fcbca8069f8c2be4be0c1bc7299e1ed03f2b6fc59f3faf8f"
  }
 },
 "nbformat": 4,
 "nbformat_minor": 2
}