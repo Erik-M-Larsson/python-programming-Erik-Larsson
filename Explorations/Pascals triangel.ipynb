{
 "cells": [
  {
   "cell_type": "markdown",
   "source": [
    "# Pascals triangel"
   ],
   "metadata": {}
  },
  {
   "cell_type": "code",
   "execution_count": 59,
   "source": [
    "# Pascals triangel\r\n",
    "\r\n",
    "n = int(input(\"Ange höjden på triangeln: \"))\r\n",
    "\r\n",
    "rad =[0, 1, 0]\r\n",
    "for i in range(n):\r\n",
    "    #print(\"rad\")\r\n",
    "    print( f\"{' '*2*(n-i)}{rad[1 : -1]}\")\r\n",
    " \r\n",
    "    rad = [0] + [ x + rad[j+1] for j,x in enumerate(rad[:-1])] + [0]\r\n"
   ],
   "outputs": [
    {
     "output_type": "stream",
     "name": "stdout",
     "text": [
      "                                        [1]\n",
      "                                      [1, 1]\n",
      "                                    [1, 2, 1]\n",
      "                                  [1, 3, 3, 1]\n",
      "                                [1, 4, 6, 4, 1]\n",
      "                              [1, 5, 10, 10, 5, 1]\n",
      "                            [1, 6, 15, 20, 15, 6, 1]\n",
      "                          [1, 7, 21, 35, 35, 21, 7, 1]\n",
      "                        [1, 8, 28, 56, 70, 56, 28, 8, 1]\n",
      "                      [1, 9, 36, 84, 126, 126, 84, 36, 9, 1]\n",
      "                    [1, 10, 45, 120, 210, 252, 210, 120, 45, 10, 1]\n",
      "                  [1, 11, 55, 165, 330, 462, 462, 330, 165, 55, 11, 1]\n",
      "                [1, 12, 66, 220, 495, 792, 924, 792, 495, 220, 66, 12, 1]\n",
      "              [1, 13, 78, 286, 715, 1287, 1716, 1716, 1287, 715, 286, 78, 13, 1]\n",
      "            [1, 14, 91, 364, 1001, 2002, 3003, 3432, 3003, 2002, 1001, 364, 91, 14, 1]\n",
      "          [1, 15, 105, 455, 1365, 3003, 5005, 6435, 6435, 5005, 3003, 1365, 455, 105, 15, 1]\n",
      "        [1, 16, 120, 560, 1820, 4368, 8008, 11440, 12870, 11440, 8008, 4368, 1820, 560, 120, 16, 1]\n",
      "      [1, 17, 136, 680, 2380, 6188, 12376, 19448, 24310, 24310, 19448, 12376, 6188, 2380, 680, 136, 17, 1]\n",
      "    [1, 18, 153, 816, 3060, 8568, 18564, 31824, 43758, 48620, 43758, 31824, 18564, 8568, 3060, 816, 153, 18, 1]\n",
      "  [1, 19, 171, 969, 3876, 11628, 27132, 50388, 75582, 92378, 92378, 75582, 50388, 27132, 11628, 3876, 969, 171, 19, 1]\n"
     ]
    }
   ],
   "metadata": {}
  },
  {
   "cell_type": "code",
   "execution_count": 60,
   "source": [
    "# Pascals triangel 2.0\r\n",
    "\r\n",
    "n = int(input(\"Ange höjden på triangeln: \"))    # Låt användare ange höjden \r\n",
    "                                                # TODO hantera felaktiga input\r\n",
    "rad =[0, 1, 0]      # Översta raden\r\n",
    "\r\n",
    "for i in range(n):  # För varje rad i triangeln\r\n",
    " \r\n",
    "    print( \"\\n\", ' '*2*(n-i), end='')       # Skriv ut blanksteg för att få en snygg form på triangeln \r\n",
    "                                            # TODO hitta bättre formel. Bredden ickelinjär ( Ingen riktig triangel )\r\n",
    "    \r\n",
    "    for j,x in enumerate( rad[1 : -1]):     # Skriv ut varje siffra > 0 i raden\r\n",
    "        print(x, end=' '*3)\r\n",
    "   \r\n",
    "    rad = [0] + [ x + rad[j+1] for j,x in enumerate(rad[:-1])] + [0]    # Skapa nästa rad\r\n"
   ],
   "outputs": [
    {
     "output_type": "stream",
     "name": "stdout",
     "text": [
      "\n",
      "                                         1   \n",
      "                                       1   1   \n",
      "                                     1   2   1   \n",
      "                                   1   3   3   1   \n",
      "                                 1   4   6   4   1   \n",
      "                               1   5   10   10   5   1   \n",
      "                             1   6   15   20   15   6   1   \n",
      "                           1   7   21   35   35   21   7   1   \n",
      "                         1   8   28   56   70   56   28   8   1   \n",
      "                       1   9   36   84   126   126   84   36   9   1   \n",
      "                     1   10   45   120   210   252   210   120   45   10   1   \n",
      "                   1   11   55   165   330   462   462   330   165   55   11   1   \n",
      "                 1   12   66   220   495   792   924   792   495   220   66   12   1   \n",
      "               1   13   78   286   715   1287   1716   1716   1287   715   286   78   13   1   \n",
      "             1   14   91   364   1001   2002   3003   3432   3003   2002   1001   364   91   14   1   \n",
      "           1   15   105   455   1365   3003   5005   6435   6435   5005   3003   1365   455   105   15   1   \n",
      "         1   16   120   560   1820   4368   8008   11440   12870   11440   8008   4368   1820   560   120   16   1   \n",
      "       1   17   136   680   2380   6188   12376   19448   24310   24310   19448   12376   6188   2380   680   136   17   1   \n",
      "     1   18   153   816   3060   8568   18564   31824   43758   48620   43758   31824   18564   8568   3060   816   153   18   1   \n",
      "   1   19   171   969   3876   11628   27132   50388   75582   92378   92378   75582   50388   27132   11628   3876   969   171   19   1   "
     ]
    }
   ],
   "metadata": {}
  },
  {
   "cell_type": "code",
   "execution_count": 45,
   "source": [
    "n = int(input(\"Input you n value\"))\r\n",
    "\r\n",
    "list3 =[1]\r\n",
    "list4 = []\r\n",
    "\r\n",
    "for y in range(n):\r\n",
    "    list4 = []\r\n",
    "    list4.append(1)\r\n",
    "    for x in range(len(list3)-1):\r\n",
    "            list4.append(list3[x]+list3[x+1])\r\n",
    "    list4.append(1)\r\n",
    "    list3=list4\r\n",
    "    print(list3)"
   ],
   "outputs": [
    {
     "output_type": "stream",
     "name": "stdout",
     "text": [
      "[1, 1]\n",
      "[1, 2, 1]\n",
      "[1, 3, 3, 1]\n",
      "[1, 4, 6, 4, 1]\n",
      "[1, 5, 10, 10, 5, 1]\n",
      "[1, 6, 15, 20, 15, 6, 1]\n",
      "[1, 7, 21, 35, 35, 21, 7, 1]\n",
      "[1, 8, 28, 56, 70, 56, 28, 8, 1]\n",
      "[1, 9, 36, 84, 126, 126, 84, 36, 9, 1]\n",
      "[1, 10, 45, 120, 210, 252, 210, 120, 45, 10, 1]\n",
      "[1, 11, 55, 165, 330, 462, 462, 330, 165, 55, 11, 1]\n",
      "[1, 12, 66, 220, 495, 792, 924, 792, 495, 220, 66, 12, 1]\n",
      "[1, 13, 78, 286, 715, 1287, 1716, 1716, 1287, 715, 286, 78, 13, 1]\n",
      "[1, 14, 91, 364, 1001, 2002, 3003, 3432, 3003, 2002, 1001, 364, 91, 14, 1]\n",
      "[1, 15, 105, 455, 1365, 3003, 5005, 6435, 6435, 5005, 3003, 1365, 455, 105, 15, 1]\n",
      "[1, 16, 120, 560, 1820, 4368, 8008, 11440, 12870, 11440, 8008, 4368, 1820, 560, 120, 16, 1]\n",
      "[1, 17, 136, 680, 2380, 6188, 12376, 19448, 24310, 24310, 19448, 12376, 6188, 2380, 680, 136, 17, 1]\n",
      "[1, 18, 153, 816, 3060, 8568, 18564, 31824, 43758, 48620, 43758, 31824, 18564, 8568, 3060, 816, 153, 18, 1]\n",
      "[1, 19, 171, 969, 3876, 11628, 27132, 50388, 75582, 92378, 92378, 75582, 50388, 27132, 11628, 3876, 969, 171, 19, 1]\n",
      "[1, 20, 190, 1140, 4845, 15504, 38760, 77520, 125970, 167960, 184756, 167960, 125970, 77520, 38760, 15504, 4845, 1140, 190, 20, 1]\n"
     ]
    }
   ],
   "metadata": {}
  },
  {
   "cell_type": "code",
   "execution_count": 47,
   "source": [
    "height = 20  #height of our pyramid\r\n",
    "\r\n",
    "grid=[[1],[1,1]] #creating the 2 first lines of our pyramid in a 2d list\r\n",
    "\r\n",
    "#filling the grid with the right values \r\n",
    "for i in range(2,height):  \r\n",
    "    new_line=[1]                                       # first value is always a 1\r\n",
    "    for j in range(1,i):\r\n",
    "        new_line.append(grid[i-1][j]+grid[i-1][j-1])   #each cell will receive the sum of the 2 cells above it\r\n",
    "    new_line.append(1)                                 # last value in a line is always a 1\r\n",
    "    grid.append(new_line)                              # adding the new line to the grid\r\n",
    "    \r\n",
    "\r\n",
    "for i in range(len(grid)): #going through the 2d list and creating a string for each line then printing it\r\n",
    "    char=\"\"\r\n",
    "    for x in range(height-i): #adding the spaces before the first number\r\n",
    "        char+=\"  \"\r\n",
    "\r\n",
    "    for j in range(i+1):\r\n",
    "        char+=str(grid[i][j])+\"   \" #adding the numbers with a space after them \r\n",
    "    print(char)                     # printing the line of text"
   ],
   "outputs": [
    {
     "output_type": "stream",
     "name": "stdout",
     "text": [
      "                                        1   \n",
      "                                      1   1   \n",
      "                                    1   2   1   \n",
      "                                  1   3   3   1   \n",
      "                                1   4   6   4   1   \n",
      "                              1   5   10   10   5   1   \n",
      "                            1   6   15   20   15   6   1   \n",
      "                          1   7   21   35   35   21   7   1   \n",
      "                        1   8   28   56   70   56   28   8   1   \n",
      "                      1   9   36   84   126   126   84   36   9   1   \n",
      "                    1   10   45   120   210   252   210   120   45   10   1   \n",
      "                  1   11   55   165   330   462   462   330   165   55   11   1   \n",
      "                1   12   66   220   495   792   924   792   495   220   66   12   1   \n",
      "              1   13   78   286   715   1287   1716   1716   1287   715   286   78   13   1   \n",
      "            1   14   91   364   1001   2002   3003   3432   3003   2002   1001   364   91   14   1   \n",
      "          1   15   105   455   1365   3003   5005   6435   6435   5005   3003   1365   455   105   15   1   \n",
      "        1   16   120   560   1820   4368   8008   11440   12870   11440   8008   4368   1820   560   120   16   1   \n",
      "      1   17   136   680   2380   6188   12376   19448   24310   24310   19448   12376   6188   2380   680   136   17   1   \n",
      "    1   18   153   816   3060   8568   18564   31824   43758   48620   43758   31824   18564   8568   3060   816   153   18   1   \n",
      "  1   19   171   969   3876   11628   27132   50388   75582   92378   92378   75582   50388   27132   11628   3876   969   171   19   1   \n"
     ]
    }
   ],
   "metadata": {}
  }
 ],
 "metadata": {
  "orig_nbformat": 4,
  "language_info": {
   "name": "python",
   "version": "3.9.7",
   "mimetype": "text/x-python",
   "codemirror_mode": {
    "name": "ipython",
    "version": 3
   },
   "pygments_lexer": "ipython3",
   "nbconvert_exporter": "python",
   "file_extension": ".py"
  },
  "kernelspec": {
   "name": "python3",
   "display_name": "Python 3.9.7 64-bit ('python-programming-Erik-Larsson-ctfcgb4Z': pipenv)"
  },
  "interpreter": {
   "hash": "f478fc9176ae27b1fcbca8069f8c2be4be0c1bc7299e1ed03f2b6fc59f3faf8f"
  }
 },
 "nbformat": 4,
 "nbformat_minor": 2
}