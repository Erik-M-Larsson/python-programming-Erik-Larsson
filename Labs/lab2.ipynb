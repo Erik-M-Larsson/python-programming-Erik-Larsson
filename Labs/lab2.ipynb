{
 "cells": [
  {
   "cell_type": "markdown",
   "source": [
    "# Lab2\r\n",
    "##  Pichu eller Pikachu? "
   ],
   "metadata": {}
  },
  {
   "cell_type": "markdown",
   "source": [
    "### Läs in data från fil"
   ],
   "metadata": {}
  },
  {
   "cell_type": "code",
   "execution_count": 75,
   "source": [
    "# Funktion som tar sökvägen till en textfil med pokemondata som argument.\r\n",
    "# Läser in datan och returnerar en lista med datapunkter. Varje datapunkt är också en lista med två värden.\r\n",
    "\r\n",
    "def poke_lasin(poke_path):\r\n",
    "    with open(poke_path,'r') as f: # Läser in filen och tilldelar innehållet till raa_data\r\n",
    "        raa_data = f.readlines()\r\n",
    "\r\n",
    "    rensad_data = [] # Initera tom lista\r\n",
    "\r\n",
    "    for rad in raa_data[1:]: # [0] inhåller överskrifter som vi inte vill ha med\r\n",
    "        \r\n",
    "        rad = rad.split(sep=\", \") # Dela upp strängen per \", \"\r\n",
    "        rensad_data.append([float(rad[0][1:]), float(rad[1][:-2])]) # Rensa bort onödiga tecken och typomvandla till flyttal. Lägg till i rensad_data.        \r\n",
    "\r\n",
    "    return(rensad_data)\r\n"
   ],
   "outputs": [],
   "metadata": {}
  },
  {
   "cell_type": "code",
   "execution_count": 76,
   "source": [
    "# Test av poke_lasin\r\n",
    "# Endast för att kontrollera om fungerar som tänkt och läse in filen korrekt. Används inte i programmet\r\n",
    "\r\n",
    "path_pichu = \"files/pichu.txt\"\r\n",
    "\r\n",
    "d = poke_lasin(path_pichu)\r\n",
    "\r\n",
    "# print(d) # Skriv ut data. Avstängd för det blir så mycket text\r\n",
    "\r\n",
    "print(len(d)) # Skriv ut längden (antalet datapunkter) på d. 50 i givna filer.\r\n",
    "\r\n",
    "# Jämför första och sista datapunkt mot värden i filen\r\n",
    "print(d[0][0] == 20.11541438766307)\r\n",
    "print(d[0][1] == 28.701809671168824)\r\n",
    "print(d[-1][0] == 17.918657431760675)\r\n",
    "print(d[-1][1] == 33.60779702234498)\r\n"
   ],
   "outputs": [
    {
     "output_type": "stream",
     "name": "stdout",
     "text": [
      "50\n",
      "True\n",
      "True\n",
      "True\n",
      "True\n"
     ]
    }
   ],
   "metadata": {}
  },
  {
   "cell_type": "code",
   "execution_count": 78,
   "source": [
    "# Main eller vad det kallas i Python :)\r\n",
    "\r\n",
    "path_pichu = \"files/pichu.txt\"\r\n",
    "path_pikachu = \"files/pikachu.txt\"\r\n",
    "path_test = \"files/test_points.txt\"\r\n",
    "\r\n",
    "apa = poke_lasin(path_pichu)\r\n",
    "\r\n",
    "apa"
   ],
   "outputs": [
    {
     "output_type": "execute_result",
     "data": {
      "text/plain": [
       "[[20.11541438766307, 28.701809671168824],\n",
       " [15.200086041781336, 27.095070307714877],\n",
       " [17.200234546952956, 27.669778220491132],\n",
       " [16.785685905190583, 34.36654587712494],\n",
       " [20.8917697133121, 31.480353852465935],\n",
       " [20.41359589938329, 31.091310056669883],\n",
       " [22.137436541638763, 26.71138648198097],\n",
       " [15.695510661035328, 32.291267979503495],\n",
       " [18.375374557482164, 26.634024937619284],\n",
       " [15.238377755504562, 28.794554417576478],\n",
       " [16.749103798428827, 34.895233506365955],\n",
       " [19.042842304826898, 31.399997598540928],\n",
       " [15.212287757470909, 30.569497437746463],\n",
       " [16.59070120549319, 31.846142509898748],\n",
       " [20.199075502236184, 33.4285192018981],\n",
       " [19.35953184482573, 32.75999911546245],\n",
       " [16.763524976325574, 27.290480719641042],\n",
       " [19.71412547100727, 25.321002439040377],\n",
       " [21.475443653422612, 28.154530480590818],\n",
       " [15.051990077424488, 27.67740875975703],\n",
       " [21.446554014662464, 27.109828435863264],\n",
       " [20.585115159905815, 34.429097143350546],\n",
       " [17.722004132143937, 33.76367626472669],\n",
       " [16.24383599849425, 28.14677880798478],\n",
       " [22.65770457765425, 31.5543866529488],\n",
       " [17.692756360901015, 28.95631901060664],\n",
       " [15.741966747041182, 34.14547589740543],\n",
       " [15.773731014667712, 29.588518525873987],\n",
       " [21.779954930779677, 27.648801664980525],\n",
       " [19.82980825093513, 27.466275076939834],\n",
       " [21.45702618619504, 30.61368134163151],\n",
       " [20.837854293550542, 27.627416085229353],\n",
       " [19.289824731637605, 30.845859902235404],\n",
       " [22.784926111834963, 33.97822883602477],\n",
       " [18.02827501766683, 28.994005051403974],\n",
       " [19.416325050185815, 27.193207591572833],\n",
       " [21.63523731402396, 34.97537606495111],\n",
       " [19.94815801891397, 30.095262936764644],\n",
       " [21.89365520248622, 25.90909412173794],\n",
       " [19.618817162054096, 25.471163754247346],\n",
       " [20.63657468971939, 26.096491303506593],\n",
       " [15.366595069245298, 31.2744604170309],\n",
       " [16.823186205212373, 32.920793643629644],\n",
       " [17.315103708816856, 29.22159966799684],\n",
       " [15.63833581538902, 25.63527706151957],\n",
       " [16.862327090888243, 28.816192865065368],\n",
       " [15.808011435277834, 34.96121380240097],\n",
       " [17.223788824880735, 30.29114345099137],\n",
       " [20.085475554115202, 34.71078377613618],\n",
       " [17.918657431760675, 33.60779702234498]]"
      ]
     },
     "metadata": {},
     "execution_count": 78
    }
   ],
   "metadata": {}
  },
  {
   "cell_type": "code",
   "execution_count": null,
   "source": [],
   "outputs": [],
   "metadata": {}
  }
 ],
 "metadata": {
  "orig_nbformat": 4,
  "language_info": {
   "name": "python",
   "version": "3.9.7",
   "mimetype": "text/x-python",
   "codemirror_mode": {
    "name": "ipython",
    "version": 3
   },
   "pygments_lexer": "ipython3",
   "nbconvert_exporter": "python",
   "file_extension": ".py"
  },
  "kernelspec": {
   "name": "python3",
   "display_name": "Python 3.9.7 64-bit ('python-programming-Erik-Larsson-ctfcgb4Z': pipenv)"
  },
  "interpreter": {
   "hash": "f478fc9176ae27b1fcbca8069f8c2be4be0c1bc7299e1ed03f2b6fc59f3faf8f"
  }
 },
 "nbformat": 4,
 "nbformat_minor": 2
}