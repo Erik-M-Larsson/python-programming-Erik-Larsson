{
 "cells": [
  {
   "cell_type": "markdown",
   "source": [
    "# OOP basics"
   ],
   "metadata": {}
  },
  {
   "cell_type": "code",
   "execution_count": 1,
   "source": [
    "class Antagning: # create class\r\n",
    "    def __init__(self) -> None:\r\n",
    "        pass\r\n",
    "\r\n",
    "\r\n",
    "a1 = Antagning()\r\n",
    "print(a1)    "
   ],
   "outputs": [
    {
     "output_type": "stream",
     "name": "stdout",
     "text": [
      "<__main__.Antagning object at 0x000001F386C40820>\n"
     ]
    }
   ],
   "metadata": {}
  },
  {
   "cell_type": "code",
   "execution_count": 15,
   "source": [
    "class Antagning:\r\n",
    "    # self refers to the object thas is created\r\n",
    "    def __init__(self, school, program, name, accept = False) -> None: # dunder init\r\n",
    "        # assigns arguments to the objects attributes (egenskaper/variabler)\r\n",
    "        self.school = school\r\n",
    "        self.program = program\r\n",
    "        self.name = name\r\n",
    "        self.accept = accept\r\n",
    "\r\n",
    "    def __repr__(self) -> str:\r\n",
    "        return f\"Antagning(scholl='{self.school}', program='{self.program}', self='{self.name}', accept={self.accept}\"\r\n",
    "\r\n",
    "person1 = Antagning(\"Cool School\", \"AI\", \"Gore Bord\", False)\r\n",
    "person2 = Antagning(\"IT-skola\", \"UX\", \"Gorat Borat\")\r\n",
    "\r\n",
    "print(person1.name)\r\n",
    "print(person1.accept)\r\n",
    "print(person1.__dict__)\r\n",
    "\r\n",
    "print(person2.name)\r\n",
    "print(person2.accept)\r\n",
    "print(person2.__dict__)\r\n",
    "\r\n",
    "print(person1)\r\n",
    "print(person2)"
   ],
   "outputs": [
    {
     "output_type": "stream",
     "name": "stdout",
     "text": [
      "Gore Bord\n",
      "False\n",
      "{'school': 'Cool School', 'program': 'AI', 'name': 'Gore Bord', 'accept': False}\n",
      "Gorat Borat\n",
      "False\n",
      "{'school': 'IT-skola', 'program': 'UX', 'name': 'Gorat Borat', 'accept': False}\n",
      "Antagning(scholl='Cool School', program='AI', self='Gore Bord', accept=False\n",
      "Antagning(scholl='IT-skola', program='UX', self='Gorat Borat', accept=False\n"
     ]
    }
   ],
   "metadata": {}
  },
  {
   "cell_type": "markdown",
   "source": [
    "## Old coins in Sweden\r\n"
   ],
   "metadata": {}
  },
  {
   "cell_type": "code",
   "execution_count": 18,
   "source": [
    "class OldCoinStash:\r\n",
    "    def __init__(self, owner) -> None:\r\n",
    "        self.owner = owner\r\n",
    "        self.riksdaler = 0\r\n",
    "        self.skilling = 0\r\n",
    "\r\n",
    "\r\n",
    "stash1 = OldCoinStash(\"Gore Bord\")\r\n",
    "print(stash1.riksdaler)\r\n",
    "\r\n",
    "stash1.riksdaler = 1000\r\n",
    "print(stash1.riksdaler)\r\n"
   ],
   "outputs": [
    {
     "output_type": "stream",
     "name": "stdout",
     "text": [
      "0\n",
      "1000\n"
     ]
    }
   ],
   "metadata": {}
  },
  {
   "cell_type": "markdown",
   "source": [
    "## Encapsulation\r\n",
    "- In OOP, you want to encapsulate some information and only show relevant infromation outwards\r\n"
   ],
   "metadata": {}
  },
  {
   "cell_type": "code",
   "execution_count": 49,
   "source": [
    "class OldCoinStash:\r\n",
    "    def __init__(self, owner) -> None:\r\n",
    "        self.owner = owner\r\n",
    "\r\n",
    "\r\n",
    "        # private  - by convention use underscore prefix\r\n",
    "        self._riksdaler = 0\r\n",
    "        self._skilling = 0\r\n",
    "\r\n",
    "\r\n",
    "    def deposit(self, riksdaler:float = 0, skilling:float = 0) -> None:\r\n",
    "        if riksdaler < 0 or skilling < 0:\r\n",
    "            raise ValueError(f\"Stop depositing negative values. {riksdaler} rikdsdaler or {skilling} not okej\")\r\n",
    "\r\n",
    "        self._riksdaler += riksdaler\r\n",
    "        self._skilling += skilling\r\n",
    "\r\n",
    "    def withdraw(self, riksdaler:float = 0, skilling:float = 0) -> None:\r\n",
    "        if riksdaler > self._riksdaler or skilling > self._skilling:\r\n",
    "            raise ValueError(\"You do not have that much\")  \r\n",
    "\r\n",
    "        self._riksdaler -= riksdaler\r\n",
    "        self._skilling -= skilling\r\n",
    "\r\n",
    "    def check_balanc(self) -> str:\r\n",
    "        return f\"{self._riksdaler} {self._skilling} \"  \r\n",
    "\r\n",
    "    def __repr__(self) -> str:\r\n",
    "        return f\"OldCoinStash(owner='{self.owner}')\"\r\n",
    "        \r\n",
    "\r\n",
    "\r\n",
    "stash1 = OldCoinStash(\"Gore Bod\")\r\n",
    "\r\n",
    "print(stash1) # testing __repr__\r\n",
    "print(stash1.check_balanc()) # testing check balance()\r\n",
    "\r\n",
    "try:\r\n",
    "    stash1.deposit(riksdaler=500, skilling= 0) #testing deposit\r\n",
    "except ValueError as err:\r\n",
    "    print(err)\r\n",
    "\r\n",
    "print(stash1.check_balanc())\r\n",
    "\r\n",
    "try:\r\n",
    "    stash1.withdraw(300) #testing deposit\r\n",
    "except ValueError as err:\r\n",
    "    print(err)\r\n",
    "\r\n",
    "print(stash1.check_balanc())\r\n",
    "\r\n",
    "# Försök råna banken\r\n",
    "\r\n",
    "# Works, but do not do this\r\n",
    "stash1._riksdaler =1000000\r\n",
    "print(stash1.check_balanc())\r\n",
    "\r\n",
    "\r\n",
    "print(stash1.__dir__)\r\n"
   ],
   "outputs": [
    {
     "output_type": "stream",
     "name": "stdout",
     "text": [
      "OldCoinStash(owner='Gore Bod')\n",
      "0 0 \n",
      "500 0 \n",
      "200 0 \n",
      "1000000 0 \n",
      "<built-in method __dir__ of OldCoinStash object at 0x000001F3879639A0>\n"
     ]
    }
   ],
   "metadata": {}
  },
  {
   "cell_type": "markdown",
   "source": [
    "## Properties"
   ],
   "metadata": {}
  },
  {
   "cell_type": "code",
   "execution_count": 52,
   "source": [
    "class Student:\r\n",
    "    def __init__(self, name: str, age: float) -> None:\r\n",
    "        self.name = name # note no underscore\r\n",
    "        self.age = age\r\n",
    "    \r\n",
    "    \r\n",
    "    def name(self) -> str:\r\n",
    "        return self._name # note underscore\r\n",
    "\r\n",
    "    @property\r\n",
    "    def age(self) -> float:\r\n",
    "        print(\"age getter is running ...\")\r\n",
    "        return self._age # note underscore\r\n",
    "\r\n",
    "    @age.setter\r\n",
    "    def age(self, value: float) -> None:\r\n",
    "        print(\"age-setter is running ...\")\r\n",
    "        if not isinstance(value, (int, float)):\r\n",
    "            raise TypeError(f\"Age must be an int or a float not {type(value)}\")\r\n",
    "\r\n",
    "        if  not (0 <= value < 125):    \r\n",
    "            raise TypeError(f\"Age must be betseen 0 and 124\")\r\n",
    "        \r\n",
    "        self._age = value\r\n",
    "\r\n",
    "student1 = Student(\"Gore Bord\", 25)\r\n",
    "print(student1.age)\r\n",
    "print(student1.name)\r\n",
    "print(student1._age)\r\n",
    "\r\n",
    "try:\r\n",
    "    student1.age = \"25\"\r\n",
    "except TypeError as err:\r\n",
    "    print(err)\r\n",
    "\r\n",
    "\r\n",
    "print(dir(student1))\r\n"
   ],
   "outputs": [
    {
     "output_type": "stream",
     "name": "stdout",
     "text": [
      "age-setter is running ...\n",
      "age getter is running ...\n",
      "25\n",
      "Gore Bord\n",
      "25\n",
      "age-setter is running ...\n",
      "Age must be an int or a float not <class 'str'>\n",
      "['__class__', '__delattr__', '__dict__', '__dir__', '__doc__', '__eq__', '__format__', '__ge__', '__getattribute__', '__gt__', '__hash__', '__init__', '__init_subclass__', '__le__', '__lt__', '__module__', '__ne__', '__new__', '__reduce__', '__reduce_ex__', '__repr__', '__setattr__', '__sizeof__', '__str__', '__subclasshook__', '__weakref__', '_age', 'age', 'name']\n"
     ]
    }
   ],
   "metadata": {}
  },
  {
   "cell_type": "code",
   "execution_count": null,
   "source": [],
   "outputs": [],
   "metadata": {}
  }
 ],
 "metadata": {
  "orig_nbformat": 4,
  "language_info": {
   "name": "python",
   "version": "3.9.7",
   "mimetype": "text/x-python",
   "codemirror_mode": {
    "name": "ipython",
    "version": 3
   },
   "pygments_lexer": "ipython3",
   "nbconvert_exporter": "python",
   "file_extension": ".py"
  },
  "kernelspec": {
   "name": "python3",
   "display_name": "Python 3.9.7 64-bit ('python-programming-Erik-Larsson-ctfcgb4Z': pipenv)"
  },
  "interpreter": {
   "hash": "f478fc9176ae27b1fcbca8069f8c2be4be0c1bc7299e1ed03f2b6fc59f3faf8f"
  }
 },
 "nbformat": 4,
 "nbformat_minor": 2
}