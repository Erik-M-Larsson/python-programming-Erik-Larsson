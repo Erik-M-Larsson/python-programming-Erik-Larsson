{
 "cells": [
  {
   "cell_type": "markdown",
   "source": [
    "# 6. Funktioner"
   ],
   "metadata": {}
  },
  {
   "cell_type": "markdown",
   "source": [],
   "metadata": {}
  },
  {
   "cell_type": "code",
   "execution_count": 6,
   "source": [
    "import math\r\n",
    "\r\n",
    "def kub(tal=math.tau): # default värde tau :)\r\n",
    "    return tal**3\r\n",
    "\r\n",
    "\r\n",
    "print(f\"kub(3) : {kub(3)}\")    \r\n",
    "print(f\"kub() : {kub()}\")    \r\n"
   ],
   "outputs": [
    {
     "output_type": "stream",
     "name": "stdout",
     "text": [
      "kub(3) : 27\n",
      "kub() : 248.05021344239853\n"
     ]
    }
   ],
   "metadata": {}
  },
  {
   "cell_type": "code",
   "execution_count": 14,
   "source": [
    "def n_power1(x,n):\r\n",
    "    return x**n\r\n",
    "\r\n",
    "print(n_power1(2,3))\r\n",
    "\r\n",
    "def n_power2(n):\r\n",
    "    return lambda x: x**n\r\n",
    "\r\n",
    "third_power = n_power2(3) #third_power blir som en funktion\r\n",
    "print(third_power(2))"
   ],
   "outputs": [
    {
     "output_type": "stream",
     "name": "stdout",
     "text": [
      "8\n",
      "8\n"
     ]
    }
   ],
   "metadata": {}
  },
  {
   "cell_type": "code",
   "execution_count": 3,
   "source": [
    "xtest = 4\r\n",
    "\r\n",
    "def fun(x):\r\n",
    "    return x+2\r\n",
    "print(f\"Test fun({xtest}): {fun(xtest)}\")\r\n",
    "\r\n",
    "lam = lambda x: x+2\r\n",
    "print(f\"Test lam({xtest}): {lam(xtest)}\")"
   ],
   "outputs": [
    {
     "output_type": "stream",
     "name": "stdout",
     "text": [
      "Test fun(4): 6\n",
      "Test lam(4): 6\n"
     ]
    }
   ],
   "metadata": {}
  },
  {
   "cell_type": "code",
   "execution_count": null,
   "source": [],
   "outputs": [],
   "metadata": {}
  }
 ],
 "metadata": {
  "orig_nbformat": 4,
  "language_info": {
   "name": "python",
   "version": "3.9.7",
   "mimetype": "text/x-python",
   "codemirror_mode": {
    "name": "ipython",
    "version": 3
   },
   "pygments_lexer": "ipython3",
   "nbconvert_exporter": "python",
   "file_extension": ".py"
  },
  "kernelspec": {
   "name": "python3",
   "display_name": "Python 3.9.7 64-bit ('python-programming-Erik-Larsson-ctfcgb4Z': pipenv)"
  },
  "interpreter": {
   "hash": "f478fc9176ae27b1fcbca8069f8c2be4be0c1bc7299e1ed03f2b6fc59f3faf8f"
  }
 },
 "nbformat": 4,
 "nbformat_minor": 2
}