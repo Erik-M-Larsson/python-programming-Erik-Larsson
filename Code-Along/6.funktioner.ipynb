{
 "cells": [
  {
   "cell_type": "markdown",
   "source": [
    "# 6. Funktioner"
   ],
   "metadata": {}
  },
  {
   "cell_type": "markdown",
   "source": [],
   "metadata": {}
  },
  {
   "cell_type": "code",
   "execution_count": 6,
   "source": [
    "import math\r\n",
    "\r\n",
    "def kub(tal=math.tau): # default värde tau :)\r\n",
    "    return tal**3\r\n",
    "\r\n",
    "\r\n",
    "print(f\"kub(3) : {kub(3)}\")    \r\n",
    "print(f\"kub() : {kub()}\")    \r\n"
   ],
   "outputs": [
    {
     "output_type": "stream",
     "name": "stdout",
     "text": [
      "kub(3) : 27\n",
      "kub() : 248.05021344239853\n"
     ]
    }
   ],
   "metadata": {}
  },
  {
   "cell_type": "code",
   "execution_count": null,
   "source": [],
   "outputs": [],
   "metadata": {}
  }
 ],
 "metadata": {
  "orig_nbformat": 4,
  "language_info": {
   "name": "python",
   "version": "3.9.7",
   "mimetype": "text/x-python",
   "codemirror_mode": {
    "name": "ipython",
    "version": 3
   },
   "pygments_lexer": "ipython3",
   "nbconvert_exporter": "python",
   "file_extension": ".py"
  },
  "kernelspec": {
   "name": "python3",
   "display_name": "Python 3.9.7 64-bit ('python-programming-Erik-Larsson-ctfcgb4Z': pipenv)"
  },
  "interpreter": {
   "hash": "f478fc9176ae27b1fcbca8069f8c2be4be0c1bc7299e1ed03f2b6fc59f3faf8f"
  }
 },
 "nbformat": 4,
 "nbformat_minor": 2
}