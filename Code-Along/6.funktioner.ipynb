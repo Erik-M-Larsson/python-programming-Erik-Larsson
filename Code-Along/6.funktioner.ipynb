{
 "cells": [
  {
   "cell_type": "markdown",
   "source": [
    "# 6. Funktioner"
   ],
   "metadata": {}
  },
  {
   "cell_type": "markdown",
   "source": [],
   "metadata": {}
  },
  {
   "cell_type": "code",
   "execution_count": 6,
   "source": [
    "import math\r\n",
    "\r\n",
    "def kub(tal=math.tau): # default värde tau :)\r\n",
    "    return tal**3\r\n",
    "\r\n",
    "\r\n",
    "print(f\"kub(3) : {kub(3)}\")    \r\n",
    "print(f\"kub() : {kub()}\")    \r\n"
   ],
   "outputs": [
    {
     "output_type": "stream",
     "name": "stdout",
     "text": [
      "kub(3) : 27\n",
      "kub() : 248.05021344239853\n"
     ]
    }
   ],
   "metadata": {}
  },
  {
   "cell_type": "code",
   "execution_count": 14,
   "source": [
    "def n_power1(x,n):\r\n",
    "    return x**n\r\n",
    "\r\n",
    "print(n_power1(2,3))\r\n",
    "\r\n",
    "def n_power2(n):\r\n",
    "    return lambda x: x**n\r\n",
    "\r\n",
    "third_power = n_power2(3) #third_power blir som en funktion\r\n",
    "print(third_power(2))"
   ],
   "outputs": [
    {
     "output_type": "stream",
     "name": "stdout",
     "text": [
      "8\n",
      "8\n"
     ]
    }
   ],
   "metadata": {}
  },
  {
   "cell_type": "code",
   "execution_count": 1,
   "source": [
    "xtest = 4\r\n",
    "\r\n",
    "def fun(x):\r\n",
    "    return x+2\r\n",
    "print(f\"Test fun({xtest}): {fun(xtest)}\")\r\n",
    "\r\n",
    "lam = lambda x: x+2\r\n",
    "print(f\"Test lam({xtest}): {lam(xtest)}\")"
   ],
   "outputs": [
    {
     "output_type": "error",
     "ename": "NameError",
     "evalue": "name 'fun' is not defined",
     "traceback": [
      "\u001b[1;31m---------------------------------------------------------------------------\u001b[0m",
      "\u001b[1;31mNameError\u001b[0m                                 Traceback (most recent call last)",
      "\u001b[1;32mC:\\Users\\ERIKLA~1\\AppData\\Local\\Temp/ipykernel_6812/1614267851.py\u001b[0m in \u001b[0;36m<module>\u001b[1;34m\u001b[0m\n\u001b[0;32m      1\u001b[0m \u001b[0mxtest\u001b[0m \u001b[1;33m=\u001b[0m \u001b[1;36m4\u001b[0m\u001b[1;33m\u001b[0m\u001b[1;33m\u001b[0m\u001b[0m\n\u001b[1;32m----> 2\u001b[1;33m \u001b[0mprint\u001b[0m\u001b[1;33m(\u001b[0m\u001b[0mfun\u001b[0m\u001b[1;33m(\u001b[0m\u001b[1;36m6\u001b[0m\u001b[1;33m)\u001b[0m\u001b[1;33m)\u001b[0m\u001b[1;33m\u001b[0m\u001b[1;33m\u001b[0m\u001b[0m\n\u001b[0m\u001b[0;32m      3\u001b[0m \u001b[1;32mdef\u001b[0m \u001b[0mfun\u001b[0m\u001b[1;33m(\u001b[0m\u001b[0mx\u001b[0m\u001b[1;33m)\u001b[0m\u001b[1;33m:\u001b[0m\u001b[1;33m\u001b[0m\u001b[1;33m\u001b[0m\u001b[0m\n\u001b[0;32m      4\u001b[0m     \u001b[1;32mreturn\u001b[0m \u001b[0mx\u001b[0m\u001b[1;33m+\u001b[0m\u001b[1;36m2\u001b[0m\u001b[1;33m\u001b[0m\u001b[1;33m\u001b[0m\u001b[0m\n\u001b[0;32m      5\u001b[0m \u001b[0mprint\u001b[0m\u001b[1;33m(\u001b[0m\u001b[1;34mf\"Test fun({xtest}): {fun(xtest)}\"\u001b[0m\u001b[1;33m)\u001b[0m\u001b[1;33m\u001b[0m\u001b[1;33m\u001b[0m\u001b[0m\n",
      "\u001b[1;31mNameError\u001b[0m: name 'fun' is not defined"
     ]
    }
   ],
   "metadata": {}
  },
  {
   "cell_type": "code",
   "execution_count": 29,
   "source": [
    "import matplotlib.pyplot as pyplot\r\n",
    "\r\n",
    "def draw_line(coordinate_list):\r\n",
    "    pyplot.plot(coordinate_list)\r\n",
    "    pyplot.xlabel('x')\r\n",
    "    pyplot.ylabel('y')\r\n",
    "\r\n",
    "function_one = lambda x: x**2 - 3\r\n",
    "#function_two = lambda x: 4 * x - 7\r\n",
    "\r\n",
    "function_one_coordinates =[]\r\n",
    "for x in range(-10,11):\r\n",
    "    function_one_coordinates += [ x, function_one(x) ]\r\n",
    "#function_two_coordinates = [[number, function_two(number)] for number in range(-10,11)]\r\n",
    "\r\n",
    "#print(function_one_coordinates)\r\n",
    "#print(function_two_coordinates)\r\n",
    "#draw_line(function_one_coordinates)\r\n",
    "#draw_line(function_two_coordinates)\r\n",
    "\r\n",
    "#pyplot.plot(0, -3, 1, -2,)"
   ],
   "outputs": [
    {
     "output_type": "execute_result",
     "data": {
      "text/plain": [
       "[<matplotlib.lines.Line2D at 0x1af09f88e20>,\n",
       " <matplotlib.lines.Line2D at 0x1af09f88e50>]"
      ]
     },
     "metadata": {},
     "execution_count": 29
    },
    {
     "output_type": "display_data",
     "data": {
      "image/png": "[encoded data removed]",
      "text/plain": [
       "<Figure size 432x288 with 1 Axes>"
      ]
     },
     "metadata": {
      "needs_background": "light"
     }
    }
   ],
   "metadata": {}
  },
  {
   "cell_type": "code",
   "execution_count": null,
   "source": [],
   "outputs": [],
   "metadata": {}
  },
  {
   "cell_type": "code",
   "execution_count": null,
   "source": [],
   "outputs": [],
   "metadata": {}
  }
 ],
 "metadata": {
  "orig_nbformat": 4,
  "language_info": {
   "name": "python",
   "version": "3.9.7",
   "mimetype": "text/x-python",
   "codemirror_mode": {
    "name": "ipython",
    "version": 3
   },
   "pygments_lexer": "ipython3",
   "nbconvert_exporter": "python",
   "file_extension": ".py"
  },
  "kernelspec": {
   "name": "python3",
   "display_name": "Python 3.9.7 64-bit ('python-programming-Erik-Larsson-ctfcgb4Z': pipenv)"
  },
  "interpreter": {
   "hash": "f478fc9176ae27b1fcbca8069f8c2be4be0c1bc7299e1ed03f2b6fc59f3faf8f"
  }
 },
 "nbformat": 4,
 "nbformat_minor": 2
}