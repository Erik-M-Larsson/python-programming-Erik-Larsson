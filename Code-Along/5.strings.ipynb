{
 "cells": [
  {
   "cell_type": "markdown",
   "source": [
    "# Strängar"
   ],
   "metadata": {}
  },
  {
   "cell_type": "markdown",
   "source": [
    "## Concatenering av strängar"
   ],
   "metadata": {}
  },
  {
   "cell_type": "code",
   "execution_count": 7,
   "source": [
    "fornamn = \"Erik\"\r\n",
    "efternamn = \"Larsson\"\r\n",
    "\r\n",
    "fullt_namn = fornamn + \" \" + efternamn\r\n",
    "\r\n",
    "skola = \"ITHS\"\r\n",
    "adress = \"Ebbe gatan\"\r\n",
    "tel = \"123456\"\r\n",
    "\r\n",
    "# multiline f-string\r\n",
    "kontaktupp= f\"\"\"\r\n",
    "Namn: {fullt_namn}\r\n",
    "Skola: {skola}\r\n",
    "Adress: {adress}\r\n",
    "Tel: {tel}\r\n",
    "\"\"\"\r\n",
    "print(kontaktupp)"
   ],
   "outputs": [
    {
     "output_type": "stream",
     "name": "stdout",
     "text": [
      "\n",
      "Namn: Erik Larsson\n",
      "Skola: ITHS\n",
      "Adress: Ebbe gatan\n",
      "Tel: 123456\n",
      "\n"
     ]
    }
   ],
   "metadata": {}
  },
  {
   "cell_type": "code",
   "execution_count": 22,
   "source": [
    "\r\n",
    "bamba = \"Chili sin Carne,Fisk,Pannkakor,Taco\".split(\",\")\r\n",
    "dagar = \"Må Ti On To Fr\".split()\r\n",
    "\r\n",
    "menu = \"Veckomeny \\n\"\r\n",
    "\r\n",
    "for dag, mat in zip(dagar, bamba):\r\n",
    "    menu += f\"{dag}: {mat}\\n\"\r\n",
    "\r\n",
    "print(menu)\r\n"
   ],
   "outputs": [
    {
     "output_type": "stream",
     "name": "stdout",
     "text": [
      "Veckomeny \n",
      "Må: Chili sin Carne\n",
      "Ti: Fisk\n",
      "On: Pannkakor\n",
      "To: Taco\n",
      "\n"
     ]
    }
   ],
   "metadata": {}
  },
  {
   "cell_type": "code",
   "execution_count": 49,
   "source": [
    "quote = \"!False - it's funny because it's True\"\r\n",
    "\r\n",
    "print(f\"quote[-6 : -2 : 1]: {quote[-6 : -2 : 1]}\")    # Framlänges\r\n",
    "print(f\"quote[-6 : -2 : -1]: {quote[-6 : -2 : -1]}\\n\") #\r\n",
    "\r\n",
    "print(f\"quote[-2 : -6 : -1]: {quote[-2 : -6 : -1]}\")   # Baklänges\r\n",
    "print(f\"quote[-2 : -6 : 1]: {quote[-2 : -6 : 1]}\\n\")  # \r\n",
    "\r\n",
    "print(f\"quote[6 : 2 : -1]: {quote[6 : 2 : -1]}\")     # Baklänges\r\n",
    "print(f\"quote[2 : 6 : -1]: {quote[2 : 6 : -1]}\")\r\n",
    "print(f\"quote[6 : 2 : 1]: {quote[6 : 2 : 1]}\\n\")    # \r\n",
    "\r\n",
    "print(f\"quote[-6 : -2 : 2]: {quote[-6 : -2 : 2]}\")    # Framlänges\r\n"
   ],
   "outputs": [
    {
     "output_type": "stream",
     "name": "stdout",
     "text": [
      "quote[-6 : -2 : 1]: s Tr\n",
      "quote[-6 : -2 : -1]: \n",
      "\n",
      "quote[-2 : -6 : -1]: urT \n",
      "quote[-2 : -6 : 1]: \n",
      "\n",
      "quote[6 : 2 : -1]:  esl\n",
      "quote[2 : 6 : -1]: \n",
      "quote[6 : 2 : 1]: \n",
      "\n",
      "quote[-6 : -2 : 2]: sT\n"
     ]
    }
   ],
   "metadata": {}
  },
  {
   "cell_type": "code",
   "execution_count": null,
   "source": [],
   "outputs": [],
   "metadata": {}
  }
 ],
 "metadata": {
  "orig_nbformat": 4,
  "language_info": {
   "name": "python",
   "version": "3.9.7",
   "mimetype": "text/x-python",
   "codemirror_mode": {
    "name": "ipython",
    "version": 3
   },
   "pygments_lexer": "ipython3",
   "nbconvert_exporter": "python",
   "file_extension": ".py"
  },
  "kernelspec": {
   "name": "python3",
   "display_name": "Python 3.9.7 64-bit ('python-programming-Erik-Larsson-ctfcgb4Z': pipenv)"
  },
  "interpreter": {
   "hash": "f478fc9176ae27b1fcbca8069f8c2be4be0c1bc7299e1ed03f2b6fc59f3faf8f"
  }
 },
 "nbformat": 4,
 "nbformat_minor": 2
}