{
 "cells": [
  {
   "cell_type": "markdown",
   "source": [
    "# Input/outputs variables"
   ],
   "metadata": {}
  },
  {
   "cell_type": "code",
   "execution_count": 6,
   "source": [
    "name = \"Erikur\" # variabelinitiering\r\n",
    "\r\n",
    "print(\"Hej\", name,\"!\") # ej rekomenderat sätt att adera strängar\r\n",
    "print(f\"Hej {name}!\") # f-string (formatted string) rekomenderat"
   ],
   "outputs": [
    {
     "output_type": "stream",
     "name": "stdout",
     "text": [
      "Hej Erikur !\n",
      "Hej Erikur!\n"
     ]
    }
   ],
   "metadata": {}
  },
  {
   "cell_type": "markdown",
   "source": [
    "## Input från användare"
   ],
   "metadata": {}
  },
  {
   "cell_type": "code",
   "execution_count": 1,
   "source": [
    "name = input(\"Vad heter du?\")\r\n",
    "print(f\"Du heter {name}.\")\r\n",
    "\r\n"
   ],
   "outputs": [
    {
     "output_type": "stream",
     "name": "stdout",
     "text": [
      "Du heter Bengt.\n"
     ]
    }
   ],
   "metadata": {}
  },
  {
   "cell_type": "code",
   "execution_count": 11,
   "source": [
    "# F=m*g\r\n",
    "\r\n",
    "g = 9.82\r\n",
    "m = float (input(\"Vikt [Kg]?\")) # omvandla till flyttal\r\n",
    "F = m*g\r\n",
    "print(f\"Tyngd  {F:.1f} N\") # formatera antal decimaler"
   ],
   "outputs": [
    {
     "output_type": "stream",
     "name": "stdout",
     "text": [
      "Tyngd  808.6 N\n"
     ]
    }
   ],
   "metadata": {}
  },
  {
   "cell_type": "code",
   "execution_count": null,
   "source": [
    "# // heltalsdivision\r\n",
    "# % modulus (resten)\r\n",
    "\r\n",
    "'''\r\n",
    "Multiline comment\r\n",
    "1\r\n",
    "2\r\n",
    "...\r\n",
    "\r\n",
    "'''"
   ],
   "outputs": [],
   "metadata": {}
  }
 ],
 "metadata": {
  "orig_nbformat": 4,
  "language_info": {
   "name": "python",
   "version": "3.9.7",
   "mimetype": "text/x-python",
   "codemirror_mode": {
    "name": "ipython",
    "version": 3
   },
   "pygments_lexer": "ipython3",
   "nbconvert_exporter": "python",
   "file_extension": ".py"
  },
  "kernelspec": {
   "name": "python3",
   "display_name": "Python 3.9.7 64-bit"
  },
  "interpreter": {
   "hash": "d4e5a9feda62566fc86059c14677bafd37783dbf04358cae41ec181d1deb8133"
  }
 },
 "nbformat": 4,
 "nbformat_minor": 2
}