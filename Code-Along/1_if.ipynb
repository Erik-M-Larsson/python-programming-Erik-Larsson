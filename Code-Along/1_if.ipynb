{
 "cells": [
  {
   "cell_type": "code",
   "execution_count": 1,
   "source": [
    "# if-sats\r\n",
    "\r\n"
   ],
   "outputs": [],
   "metadata": {}
  },
  {
   "cell_type": "code",
   "execution_count": 1,
   "source": [
    "age = int(input(\"Ålder?\")) \r\n",
    "\r\n",
    "if age<18:\r\n",
    "    print(\"Du får inte köra bil.\")\r\n",
    "else:\r\n",
    "    print(\"Du får ta körkort för bil\")"
   ],
   "outputs": [
    {
     "output_type": "stream",
     "name": "stdout",
     "text": [
      "Du får inte köra bil.\n"
     ]
    }
   ],
   "metadata": {}
  },
  {
   "cell_type": "code",
   "execution_count": 9,
   "source": [
    "n = -10\r\n",
    "while n<=10:\r\n",
    "    print(n, end = \", \")\r\n",
    "    n += 1\r\n",
    "\r\n",
    "print(f\"\\b\\b \")    "
   ],
   "outputs": [
    {
     "output_type": "stream",
     "name": "stdout",
     "text": [
      "-10, -9, -8, -7, -6, -5, -4, -3, -2, -1, 0, 1, 2, 3, 4, 5, 6, 7, 8, 9, 10 \n"
     ]
    }
   ],
   "metadata": {}
  },
  {
   "cell_type": "code",
   "execution_count": null,
   "source": [],
   "outputs": [],
   "metadata": {}
  }
 ],
 "metadata": {
  "orig_nbformat": 4,
  "language_info": {
   "name": "python",
   "version": "3.9.7",
   "mimetype": "text/x-python",
   "codemirror_mode": {
    "name": "ipython",
    "version": 3
   },
   "pygments_lexer": "ipython3",
   "nbconvert_exporter": "python",
   "file_extension": ".py"
  },
  "kernelspec": {
   "name": "python3",
   "display_name": "Python 3.9.7 64-bit"
  },
  "interpreter": {
   "hash": "d4e5a9feda62566fc86059c14677bafd37783dbf04358cae41ec181d1deb8133"
  }
 },
 "nbformat": 4,
 "nbformat_minor": 2
}