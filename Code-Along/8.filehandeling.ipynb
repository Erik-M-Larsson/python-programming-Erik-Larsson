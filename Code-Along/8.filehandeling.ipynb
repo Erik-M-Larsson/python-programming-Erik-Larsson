{
 "cells": [
  {
   "cell_type": "markdown",
   "source": [
    "# File handeling\r\n"
   ],
   "metadata": {}
  },
  {
   "cell_type": "markdown",
   "source": [
    "\"r\" - read\r\n",
    "\r\n",
    "\"a\" - append\r\n",
    "\r\n",
    "\"w\" - write\r\n",
    "\r\n",
    "\"x\" - create"
   ],
   "metadata": {}
  },
  {
   "cell_type": "code",
   "execution_count": 69,
   "source": [
    "# with -> use when open files\r\n",
    "# takes care of error handeling\r\n",
    "# takes care of closing files\r\n",
    "\r\n",
    "with open(\"files/quotes.txt\", \"r\") as f: # \"r\" -> read file\r\n",
    "    text = f.read()\r\n",
    "\r\n",
    "\r\n",
    "\r\n",
    "\r\n",
    "# print(text)    \r\n",
    "print(repr(text))"
   ],
   "outputs": [
    {
     "output_type": "stream",
     "name": "stdout",
     "text": [
      "'  If     we     knew what it was      we were doing, it would not be called research,          would it?     - Albert Einstein\\n\\nTime is a drug. Too       much of it kills you.  -  Terry Pratchett\\n\\n\\n An expert is a person who       has made all the mistakes that           can be made in a          very narrow field - Niels Bohr\\n\\n   Everything must be made as simple as possible. But not simpler. - Albert Einstein     \\n\\n\\n  Nothing in life                is to be feared, it is only to be understood. Now is the time to understand more, so that we may fear less. - Marie  Curie  \\n\\nIf I have seen further     it is by standing on the shoulders of Giants. - Isaac Newton'\n"
     ]
    }
   ],
   "metadata": {}
  },
  {
   "cell_type": "markdown",
   "source": [
    "# Clean up quotes.txt\r\n",
    "- inspect qoutes.txt\r\n",
    "- remove leading and trailing whitespaces\r\n",
    "- remove excessive whitespaces between words\r\n",
    "- add qoute numbers\r\n",
    "- extract authors\r\n"
   ],
   "metadata": {}
  },
  {
   "cell_type": "code",
   "execution_count": 70,
   "source": [
    "import re \r\n",
    "path = \"files/quotes.txt\"\r\n",
    "path_clean = \"files/quotes_clean.txt\"\r\n",
    "i = 1\r\n",
    "\r\n",
    "with open(path, \"r\") as f1, open(path_clean, \"w\") as f2:\r\n",
    "    \r\n",
    "    f2.write(\"Famous qoutes\\n\\n\")  \r\n",
    "    \r\n",
    "    for quote in f1.readlines():\r\n",
    "        quote = quote.strip(\" \\n\") # removes leading and trailing whitespace and newlines\r\n",
    "        quote = re.sub(\" +\", \" \", quote) \r\n",
    "        print(repr(quote))\r\n",
    "\r\n",
    "        if quote != \"\": \r\n",
    "            f2.write(f\"{i} {quote}\\n\")\r\n",
    "            i += 1\r\n",
    "\r\n",
    "      "
   ],
   "outputs": [
    {
     "output_type": "stream",
     "name": "stdout",
     "text": [
      "'If we knew what it was we were doing, it would not be called research, would it? - Albert Einstein'\n",
      "''\n",
      "'Time is a drug. Too much of it kills you. - Terry Pratchett'\n",
      "''\n",
      "''\n",
      "'An expert is a person who has made all the mistakes that can be made in a very narrow field - Niels Bohr'\n",
      "''\n",
      "'Everything must be made as simple as possible. But not simpler. - Albert Einstein'\n",
      "''\n",
      "''\n",
      "'Nothing in life is to be feared, it is only to be understood. Now is the time to understand more, so that we may fear less. - Marie Curie'\n",
      "''\n",
      "'If I have seen further it is by standing on the shoulders of Giants. - Isaac Newton'\n"
     ]
    }
   ],
   "metadata": {}
  },
  {
   "cell_type": "code",
   "execution_count": 71,
   "source": [
    "with  open (path_clean, \"r\") as f1, open(path_clean, \"a\") as f2:\r\n",
    "    #print(f1.read())\r\n",
    "    quotes = [quote.strip(\"\\n\") for quote in f1.readlines() if quote[0].isdigit()]\r\n",
    "    #print(quotes)\r\n",
    "\r\n",
    "    authors = [quote.split()[-2:] for quote in quotes]\r\n",
    "    authors = set([\" \".join(author) for  author in authors])\r\n",
    "    print(authors)\r\n",
    "\r\n",
    "    f2.write(\"\\nAuthors: \")\r\n",
    "    for author in authors:\r\n",
    "        f2.write(f\"{author}, \")\r\n",
    "\r\n"
   ],
   "outputs": [
    {
     "output_type": "stream",
     "name": "stdout",
     "text": [
      "{'Isaac Newton', 'Albert Einstein', 'Marie Curie', 'Terry Pratchett', 'Niels Bohr'}\n"
     ]
    }
   ],
   "metadata": {}
  },
  {
   "cell_type": "code",
   "execution_count": 86,
   "source": [
    "path_clean = \"files/quotes_clean.txt\"\r\n",
    "\r\n",
    "with  open (path_clean, \"r+\") as f3:\r\n",
    "     print(f3.read()) # OBS! om du inte kör den här raden kommer du skriva i början av filen\r\n",
    "     f3.write(f\"\\nTest av r+\")\r\n",
    "     "
   ],
   "outputs": [
    {
     "output_type": "stream",
     "name": "stdout",
     "text": [
      "\n",
      "Test av r+s\n",
      "\n",
      "1 If we knew what it was we were doing, it would not be called research, would it? - Albert Einstein\n",
      "2 Time is a drug. Too much of it kills you. - Terry Pratchett\n",
      "3 An expert is a person who has made all the mistakes that can be made in a very narrow field - Niels Bohr\n",
      "4 Everything must be made as simple as possible. But not simpler. - Albert Einstein\n",
      "5 Nothing in life is to be feared, it is only to be understood. Now is the time to understand more, so that we may fear less. - Marie Curie\n",
      "6 If I have seen further it is by standing on the shoulders of Giants. - Isaac Newton\n",
      "\n",
      "Authors: Isaac Newton, Albert Einstein, Marie Curie, Terry Pratchett, Niels Bohr, \n",
      "Test av r+\n",
      "Test av r+\n",
      "Test av r+\n",
      "Test av r+\n",
      "Test av r+\n",
      "Test av r+\n",
      "Test av r+\n"
     ]
    }
   ],
   "metadata": {}
  }
 ],
 "metadata": {
  "orig_nbformat": 4,
  "language_info": {
   "name": "python",
   "version": "3.9.7",
   "mimetype": "text/x-python",
   "codemirror_mode": {
    "name": "ipython",
    "version": 3
   },
   "pygments_lexer": "ipython3",
   "nbconvert_exporter": "python",
   "file_extension": ".py"
  },
  "kernelspec": {
   "name": "python3",
   "display_name": "Python 3.9.7 64-bit ('python-programming-Erik-Larsson-ctfcgb4Z': pipenv)"
  },
  "interpreter": {
   "hash": "f478fc9176ae27b1fcbca8069f8c2be4be0c1bc7299e1ed03f2b6fc59f3faf8f"
  }
 },
 "nbformat": 4,
 "nbformat_minor": 2
}