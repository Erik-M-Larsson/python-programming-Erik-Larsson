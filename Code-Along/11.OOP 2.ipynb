{
 "cells": [
  {
   "cell_type": "markdown",
   "source": [
    "# 11. OOP 2\r\n"
   ],
   "metadata": {}
  },
  {
   "cell_type": "markdown",
   "source": [
    "## 1. Video"
   ],
   "metadata": {}
  },
  {
   "cell_type": "code",
   "execution_count": 24,
   "source": [
    "class Video:\r\n",
    "    \"\"\"Klass för rörlig bild\"\"\"\r\n",
    "\r\n",
    "    def __init__(self, title: str, genre: str, rating: float = 0) -> None:\r\n",
    "        self.tile = title\r\n",
    "        self.genre = genre\r\n",
    "        self.rating = rating\r\n",
    "    \r\n",
    "\r\n",
    "    def info(self) -> str:\r\n",
    "        return f\"Video with title {self.tile}, genre {self.genre} and rating {self.rating}.\"\r\n",
    "\r\n",
    "\r\n",
    "class TV_serie(Video):\r\n",
    "    \"Klass för tv-serier\"\r\n",
    "\r\n",
    "    def __init__(self, title: str, genre: str, num_episodes: int, rating: float = 0 ) -> None:\r\n",
    "        super().__init__(title, genre, rating)\r\n",
    "        self.num_episodes = num_episodes\r\n",
    "\r\n",
    "    def info(self) -> str:\r\n",
    "        return f\"TV-serie with title {self.tile}, genre {self.genre}, rating {self.rating} and episodes {self.num_episodes}.\"\r\n",
    "    \r\n",
    "class Movie(Video):\r\n",
    "    \"\"\"Klass för långfilmer\"\"\"\r\n",
    "\r\n",
    "    def __init__(self, title: str, genre: str, duration: float, rating: float = 0) -> None:\r\n",
    "        super().__init__(title, genre, rating = rating)\r\n",
    "        self.duration = duration\r\n",
    "\r\n",
    "    def info(self) -> str:\r\n",
    "        return f\"Movie with title {self.tile}, genre {self.genre}, rating {self.rating} and duration {self.duration} minutes.\"\r\n",
    "\r\n",
    "\r\n",
    "class Documentary(Video):\r\n",
    "    \"\"\"Klass för dokumentärer\"\"\"\r\n",
    "    pass"
   ],
   "outputs": [],
   "metadata": {}
  },
  {
   "cell_type": "markdown",
   "source": [
    "### Test "
   ],
   "metadata": {}
  },
  {
   "cell_type": "code",
   "execution_count": 25,
   "source": [
    "pokemon = TV_serie(\"Pokemon\", \"Cartoon\", 4.5, 550)\r\n",
    "titanic = Movie(\"Titanic\", \"Romance\", 4.7, 194)\r\n",
    "code = Documentary(\"The Code\", \"Math\", 4)\r\n",
    "\r\n",
    "for video in tuple((pokemon, titanic, code)):\r\n",
    "    print(video.info())"
   ],
   "outputs": [
    {
     "output_type": "stream",
     "name": "stdout",
     "text": [
      "TV-serie with title Pokemon, genre Cartoon, rating 550 and episodes 4.5.\n",
      "Movie with title Titanic, genre Romance, rating 194 and duration 4.7 minutes.\n",
      "Video with title The Code, genre Math and rating 4.\n"
     ]
    }
   ],
   "metadata": {}
  },
  {
   "cell_type": "markdown",
   "source": [
    "## 2. Fraction"
   ],
   "metadata": {}
  },
  {
   "cell_type": "code",
   "execution_count": 126,
   "source": [
    "class Fraction:\r\n",
    "    \"\"\"Klass för bråktal\"\"\"\r\n",
    "\r\n",
    "    def __init__(self, taljare: int, namnare: int) -> None:\r\n",
    "        self.taljare = taljare\r\n",
    "        self.namnare = namnare\r\n",
    "    \r\n",
    "    def __str__(self) -> str:\r\n",
    "\r\n",
    "        if (self.namnare < 0) != (self.taljare <0):\r\n",
    "            string = \"-\"\r\n",
    "        else:\r\n",
    "            string = \"\"\r\n",
    "\r\n",
    "        if self.namnare != 1:\r\n",
    "            string += f\"{abs(self.taljare)}/{abs(self.namnare)}\"\r\n",
    "        else:\r\n",
    "            string += f\"{abs(self.taljare)}\"\r\n",
    "        \r\n",
    "        return string\r\n",
    "\r\n",
    "    def __add__(self, other: \"Fraction\") -> \"Fraction\":\r\n",
    "        \r\n",
    "        taljare = self.taljare * other.namnare + other.taljare * self.namnare\r\n",
    "        namnare = self.namnare * other.namnare\r\n",
    "\r\n",
    "        return Fraction(taljare, namnare).simplify()\r\n",
    "\r\n",
    "    def __sub__(self, other: \"Fraction\") -> \"Fraction\":\r\n",
    "\r\n",
    "        taljare = self.taljare * other.namnare - other.taljare * self.namnare\r\n",
    "        namnare = self.namnare * other.namnare\r\n",
    "\r\n",
    "        return Fraction(taljare, namnare)\r\n",
    "\r\n",
    "    def __mul__(self, other: \"Fraction\") -> \"Fraction\":\r\n",
    "\r\n",
    "        taljare = self.taljare * other.taljare\r\n",
    "        namnare = self.namnare * other.namnare\r\n",
    "\r\n",
    "        return Fraction(taljare, namnare).simplify()\r\n",
    "\r\n",
    "    def __truediv__(self, other: \"Fraction\") -> \"Fraction\":\r\n",
    "\r\n",
    "        taljare = self.taljare * other.namnare\r\n",
    "        namnare = self.namnare * other.taljare\r\n",
    "\r\n",
    "\r\n",
    "        return Fraction(taljare, namnare).simplify()\r\n",
    "\r\n",
    "    def simplify(self, value: int = None) -> \"Fraction\":\r\n",
    "\r\n",
    "        if value:\r\n",
    "            return Fraction( self.taljare // value, self.namnare // value)\r\n",
    "        else:\r\n",
    "            n = self.taljare \r\n",
    "            d = self.namnare\r\n",
    "\r\n",
    "            i = 2\r\n",
    "            while i < min(abs(n), abs(d)) + 1:\r\n",
    "                if n % i == 0 and d % i == 0:\r\n",
    "                    n = n // i\r\n",
    "                    d = d // i\r\n",
    "                else:\r\n",
    "                    i += 1\r\n",
    "                    \r\n",
    "            return Fraction(n, d)\r\n",
    "\r\n",
    "\r\n"
   ],
   "outputs": [],
   "metadata": {}
  },
  {
   "cell_type": "code",
   "execution_count": 130,
   "source": [
    "f1 = Fraction(12, -20)\r\n",
    "f2 = Fraction(2, 1)\r\n",
    "print(f1 / f2)\r\n",
    "print(f1.simplify(2))"
   ],
   "outputs": [
    {
     "output_type": "stream",
     "name": "stdout",
     "text": [
      "-3/10\n",
      "-6/10\n"
     ]
    }
   ],
   "metadata": {}
  },
  {
   "cell_type": "code",
   "execution_count": 76,
   "source": [
    "24/32\r\n"
   ],
   "outputs": [
    {
     "output_type": "execute_result",
     "data": {
      "text/plain": [
       "0.75"
      ]
     },
     "metadata": {},
     "execution_count": 76
    }
   ],
   "metadata": {}
  },
  {
   "cell_type": "code",
   "execution_count": null,
   "source": [],
   "outputs": [],
   "metadata": {}
  }
 ],
 "metadata": {
  "orig_nbformat": 4,
  "language_info": {
   "name": "python",
   "version": "3.9.7",
   "mimetype": "text/x-python",
   "codemirror_mode": {
    "name": "ipython",
    "version": 3
   },
   "pygments_lexer": "ipython3",
   "nbconvert_exporter": "python",
   "file_extension": ".py"
  },
  "kernelspec": {
   "name": "python3",
   "display_name": "Python 3.9.7 64-bit ('python-programming-Erik-Larsson-ctfcgb4Z': pipenv)"
  },
  "interpreter": {
   "hash": "f478fc9176ae27b1fcbca8069f8c2be4be0c1bc7299e1ed03f2b6fc59f3faf8f"
  }
 },
 "nbformat": 4,
 "nbformat_minor": 2
}